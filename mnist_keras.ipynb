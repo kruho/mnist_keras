{
 "cells": [
  {
   "cell_type": "markdown",
   "metadata": {},
   "source": [
    "# 手書き数字認識問題を解く\n",
    "- 使用するデータはMNIST。\n",
    "    - 60,000枚の手書き数字の画像データと、各画像の数字ラベルが入っている。\n",
    "- シンプルなニューラルネットを使って、手書き数字認識をする。\n",
    "    - [入力] 手書き数字の画像データ\n",
    "    - [出力] 数字ラベル\n",
    "- ニューラルネットには隠れ層を入れない。\n",
    "    - 画像を__x__、ラベルを__y__とすれば、__x__→__y__"
   ]
  },
  {
   "cell_type": "markdown",
   "metadata": {},
   "source": [
    "# データ読み込み"
   ]
  },
  {
   "cell_type": "markdown",
   "metadata": {},
   "source": [
    "- `numpy`は配列演算をするpythonライブラリ。\n",
    "    - 裏でBLASとLAPACKが動いている。\n",
    "    - numpyのソースはC言語で書かれている（だから速い）。\n",
    "- `import`はライブラリを読み込む文。\n",
    "    - `as`に続く文字はショートカット。\n",
    "    - `numpy`と打ち込むのが面倒＆ソースコードが長くなるので、短く`np`と命名する。"
   ]
  },
  {
   "cell_type": "code",
   "execution_count": 1,
   "metadata": {
    "collapsed": true
   },
   "outputs": [],
   "source": [
    "import numpy as np"
   ]
  },
  {
   "cell_type": "markdown",
   "metadata": {},
   "source": [
    "- https://s3.amazonaws.com/img-datasets/mnist.npz  \n",
    "にアクセスして`mnist.npz`をダウンロードし、同じディレクトリに入れておく。\n",
    "- `numpy`には`npz`形式のデータを読み込む`load`というメソッドがある。\n",
    "    - `npz`は`numpy`配列を保存するときのデータ形式の一種。\n",
    "    - メソッドとはクラスの中で定義された関数。\n",
    "    - `numpy`という名前の物体の中に`load`という名前の関数が格納されている、くらいの認識でOK。\n",
    "- `mnist.npz`というファイルを読み込んだ結果を`f`に格納する。"
   ]
  },
  {
   "cell_type": "code",
   "execution_count": 2,
   "metadata": {
    "collapsed": true
   },
   "outputs": [],
   "source": [
    "f = np.load('mnist.npz')"
   ]
  },
  {
   "cell_type": "markdown",
   "metadata": {},
   "source": [
    "- `f`にどんなデータが入っているかを調べるには`f.keys()`と打てば良い。\n",
    "- `f.keys()`の最後の丸括弧()は必須。`f.keys()`だと`f`の中に入っている`keys`という__関数__を呼び出せるが、`f.keys`と書いてしまうと`f`の中に入っている`keys`という名前の__変数__を呼び出そうとしてしまう。"
   ]
  },
  {
   "cell_type": "code",
   "execution_count": 3,
   "metadata": {},
   "outputs": [
    {
     "data": {
      "text/plain": [
       "['x_test', 'x_train', 'y_train', 'y_test']"
      ]
     },
     "execution_count": 3,
     "metadata": {},
     "output_type": "execute_result"
    }
   ],
   "source": [
    "f.keys()"
   ]
  },
  {
   "cell_type": "markdown",
   "metadata": {},
   "source": [
    "- `f`からデータを取り出す。\n",
    "    - `x_train`: 訓練に使う数字画像\n",
    "    - `y_train`: 訓練に使う数字ラベル\n",
    "    - `x_test`: テストに使う数字画像\n",
    "    - `y_test`: テストに使う数字ラベル\n",
    "    - 訓練用のデータを使ってニューラルネットを最適化する。\n",
    "    - 訓練が終わった後、ニューラルネットは次のどちらかの状態になっている。\n",
    "        1. 数字とはどんな特徴を持っているかを把握して、画像から数字を認識できる\n",
    "        2. 訓練データを丸暗記しているだけで、認識はできていない\n",
    "    - 2.の状態になっていても使い物にならないので、テストデータ（見たことのない画像データ）をニューラルネットに入力して、ちゃんと数字ラベルを当てられるかどうかを確認する。\n",
    "- `f`からデータを取り出すときは、角括弧`[]`の中に`f.keys()`で確認した文字列を入れる。文字列は必ずシングルクォートまたはダブルクォートで囲む(`'文字列'`または`\"文字列\"`)。"
   ]
  },
  {
   "cell_type": "code",
   "execution_count": 4,
   "metadata": {
    "collapsed": true
   },
   "outputs": [],
   "source": [
    "x_train = f['x_train']\n",
    "y_train = f['y_train']\n",
    "x_test = f['x_test']\n",
    "y_test = f['y_test']"
   ]
  },
  {
   "cell_type": "markdown",
   "metadata": {},
   "source": [
    "# 読み込んだデータの確認"
   ]
  },
  {
   "cell_type": "markdown",
   "metadata": {},
   "source": [
    "- 変数をベタがきすると、その中身が表示される"
   ]
  },
  {
   "cell_type": "code",
   "execution_count": 5,
   "metadata": {},
   "outputs": [
    {
     "data": {
      "text/plain": [
       "array([[[0, 0, 0, ..., 0, 0, 0],\n",
       "        [0, 0, 0, ..., 0, 0, 0],\n",
       "        [0, 0, 0, ..., 0, 0, 0],\n",
       "        ..., \n",
       "        [0, 0, 0, ..., 0, 0, 0],\n",
       "        [0, 0, 0, ..., 0, 0, 0],\n",
       "        [0, 0, 0, ..., 0, 0, 0]],\n",
       "\n",
       "       [[0, 0, 0, ..., 0, 0, 0],\n",
       "        [0, 0, 0, ..., 0, 0, 0],\n",
       "        [0, 0, 0, ..., 0, 0, 0],\n",
       "        ..., \n",
       "        [0, 0, 0, ..., 0, 0, 0],\n",
       "        [0, 0, 0, ..., 0, 0, 0],\n",
       "        [0, 0, 0, ..., 0, 0, 0]],\n",
       "\n",
       "       [[0, 0, 0, ..., 0, 0, 0],\n",
       "        [0, 0, 0, ..., 0, 0, 0],\n",
       "        [0, 0, 0, ..., 0, 0, 0],\n",
       "        ..., \n",
       "        [0, 0, 0, ..., 0, 0, 0],\n",
       "        [0, 0, 0, ..., 0, 0, 0],\n",
       "        [0, 0, 0, ..., 0, 0, 0]],\n",
       "\n",
       "       ..., \n",
       "       [[0, 0, 0, ..., 0, 0, 0],\n",
       "        [0, 0, 0, ..., 0, 0, 0],\n",
       "        [0, 0, 0, ..., 0, 0, 0],\n",
       "        ..., \n",
       "        [0, 0, 0, ..., 0, 0, 0],\n",
       "        [0, 0, 0, ..., 0, 0, 0],\n",
       "        [0, 0, 0, ..., 0, 0, 0]],\n",
       "\n",
       "       [[0, 0, 0, ..., 0, 0, 0],\n",
       "        [0, 0, 0, ..., 0, 0, 0],\n",
       "        [0, 0, 0, ..., 0, 0, 0],\n",
       "        ..., \n",
       "        [0, 0, 0, ..., 0, 0, 0],\n",
       "        [0, 0, 0, ..., 0, 0, 0],\n",
       "        [0, 0, 0, ..., 0, 0, 0]],\n",
       "\n",
       "       [[0, 0, 0, ..., 0, 0, 0],\n",
       "        [0, 0, 0, ..., 0, 0, 0],\n",
       "        [0, 0, 0, ..., 0, 0, 0],\n",
       "        ..., \n",
       "        [0, 0, 0, ..., 0, 0, 0],\n",
       "        [0, 0, 0, ..., 0, 0, 0],\n",
       "        [0, 0, 0, ..., 0, 0, 0]]], dtype=uint8)"
      ]
     },
     "execution_count": 5,
     "metadata": {},
     "output_type": "execute_result"
    }
   ],
   "source": [
    "x_train"
   ]
  },
  {
   "cell_type": "code",
   "execution_count": 6,
   "metadata": {},
   "outputs": [
    {
     "data": {
      "text/plain": [
       "array([5, 0, 4, ..., 5, 6, 8], dtype=uint8)"
      ]
     },
     "execution_count": 6,
     "metadata": {},
     "output_type": "execute_result"
    }
   ],
   "source": [
    "y_train"
   ]
  },
  {
   "cell_type": "markdown",
   "metadata": {},
   "source": [
    "- `numpy配列.shape`で配列の大きさが表示できる"
   ]
  },
  {
   "cell_type": "code",
   "execution_count": 7,
   "metadata": {},
   "outputs": [
    {
     "data": {
      "text/plain": [
       "(60000, 28, 28)"
      ]
     },
     "execution_count": 7,
     "metadata": {},
     "output_type": "execute_result"
    }
   ],
   "source": [
    "x_train.shape"
   ]
  },
  {
   "cell_type": "code",
   "execution_count": 8,
   "metadata": {},
   "outputs": [
    {
     "data": {
      "text/plain": [
       "(60000,)"
      ]
     },
     "execution_count": 8,
     "metadata": {},
     "output_type": "execute_result"
    }
   ],
   "source": [
    "y_train.shape"
   ]
  },
  {
   "cell_type": "markdown",
   "metadata": {},
   "source": [
    "- `matplotlib`を使って画像を表示する。\n",
    "    - `matplotlib`はpythonのグラフ描画ライブラリ。\n",
    "    - `matplotlib`というライブラリの中に`pyplot`というクラスがある。これを使いたい場合は、`import`するときに`matplotlib.pyplot`とする。\n",
    "    - 毎回`matplotlib.pyplot`と打つのが面倒なので、これは`plt`という名前にしておく。\n",
    "    - Jupyter Notebookの中で`matplotlib`の図を表示するために、`%matplotlib inline`を書いておく。\n",
    "- `pyplot`の中に`imshow`という名前の関数がある。これは2次元配列を受け取って画像を表示する関数。\n",
    "    - 下の例では全部で60,000枚ある画像のうち、１番目（インデックスは0）の画像を表示している。"
   ]
  },
  {
   "cell_type": "code",
   "execution_count": 9,
   "metadata": {},
   "outputs": [
    {
     "data": {
      "text/plain": [
       "<matplotlib.image.AxesImage at 0x111f1f208>"
      ]
     },
     "execution_count": 9,
     "metadata": {},
     "output_type": "execute_result"
    },
    {
     "data": {
      "image/png": "[encoded data removed]",
      "text/plain": [
       "<matplotlib.figure.Figure at 0x10dc98550>"
      ]
     },
     "metadata": {},
     "output_type": "display_data"
    }
   ],
   "source": [
    "import matplotlib.pyplot as plt\n",
    "%matplotlib inline\n",
    "\n",
    "plt.imshow(x_train[0])"
   ]
  },
  {
   "cell_type": "markdown",
   "metadata": {},
   "source": [
    "- `pyplot`の中にある`title`という関数を使うと、画像の上部に文字を表示できる。\n",
    "- `title`には文字列を入力しないといけないので、`str`という組み込み関数を使って`numpy`配列を文字列に変換している。"
   ]
  },
  {
   "cell_type": "code",
   "execution_count": 10,
   "metadata": {},
   "outputs": [
    {
     "data": {
      "text/plain": [
       "<matplotlib.text.Text at 0x111fdf978>"
      ]
     },
     "execution_count": 10,
     "metadata": {},
     "output_type": "execute_result"
    },
    {
     "data": {
      "image/png": "[encoded data removed]",
      "text/plain": [
       "<matplotlib.figure.Figure at 0x111f4fda0>"
      ]
     },
     "metadata": {},
     "output_type": "display_data"
    }
   ],
   "source": [
    "plt.imshow(x_train[0])\n",
    "plt.title(str(y_train[0]))"
   ]
  },
  {
   "cell_type": "markdown",
   "metadata": {},
   "source": [
    "# ニューラルネット用にデータを変換"
   ]
  },
  {
   "cell_type": "markdown",
   "metadata": {},
   "source": [
    "- 今回使うニューラルネットは入力が1次元配列なので、入力配列（画像）の形を変更する。\n",
    "- 配列の形の変更は、`numpy`の`reshape`という関数を使う。\n",
    "    - `reshape`は第１引数に変更したい配列、第２引数に変更後の配列の形を渡す。\n",
    "    - 配列の形は丸括弧で表す。\n",
    "    - 配列の形を変更したものは大文字の変数で格納しておく。  \n",
    "        `x_train`→`X_TRAIN`  \n",
    "        `x_test`→`X_TEST`\n",
    "- 変更前後の配列の形を表示する。\n",
    "    - `print`を使っても表示できる。\n",
    "    - 丸括弧の中に表示したい変数を書く。\n",
    "- ニューラルネットの入力は[0, 1]や[-1,1]の範囲にしておくと良いので、255で割っておく。"
   ]
  },
  {
   "cell_type": "code",
   "execution_count": 11,
   "metadata": {
    "collapsed": true
   },
   "outputs": [],
   "source": [
    "X_TRAIN = np.reshape(x_train, (60000, 784)) / 255.\n",
    "X_TEST = np.reshape(x_test, (10000, 784)) / 255."
   ]
  },
  {
   "cell_type": "code",
   "execution_count": 12,
   "metadata": {},
   "outputs": [
    {
     "name": "stdout",
     "output_type": "stream",
     "text": [
      "(60000, 28, 28) (60000, 784)\n"
     ]
    }
   ],
   "source": [
    "print(x_train.shape, X_TRAIN.shape)"
   ]
  },
  {
   "cell_type": "code",
   "execution_count": 13,
   "metadata": {},
   "outputs": [
    {
     "name": "stdout",
     "output_type": "stream",
     "text": [
      "(10000, 28, 28) (10000, 784)\n"
     ]
    }
   ],
   "source": [
    "print(x_test.shape, X_TEST.shape)"
   ]
  },
  {
   "cell_type": "markdown",
   "metadata": {},
   "source": [
    "- [0,1]の範囲になっていることを確認する。\n",
    "- `numpy`配列は、配列自身が`min`や`max`といった関数を持っている。これで配列の最小値と最大値を調べる。"
   ]
  },
  {
   "cell_type": "code",
   "execution_count": 14,
   "metadata": {},
   "outputs": [
    {
     "name": "stdout",
     "output_type": "stream",
     "text": [
      "0 255\n"
     ]
    }
   ],
   "source": [
    "print(x_train.min(), x_train.max())"
   ]
  },
  {
   "cell_type": "code",
   "execution_count": 15,
   "metadata": {},
   "outputs": [
    {
     "name": "stdout",
     "output_type": "stream",
     "text": [
      "0.0 1.0\n"
     ]
    }
   ],
   "source": [
    "print(X_TRAIN.min(), X_TRAIN.max())"
   ]
  },
  {
   "cell_type": "markdown",
   "metadata": {},
   "source": [
    "- 数字ラベルを当てる場合、答えのデータはone-hotベクトルにしておく。\n",
    "    - 5 → [0 0 0 0 0 1 0 0 0 0]\n",
    "    - 3 → [0 0 0 1 0 0 0 0 0 0]\n",
    "- one-hotベクトルに変換する方法は色々あるが、とりあえず下のように書けばOK。\n",
    "- one-hotベクトルにしたものは大文字の変数で格納しておく。  \n",
    "    `y_train`→`Y_TRAIN`  \n",
    "    `y_test`→`Y_TEST`"
   ]
  },
  {
   "cell_type": "code",
   "execution_count": 16,
   "metadata": {
    "collapsed": true
   },
   "outputs": [],
   "source": [
    "Y_TRAIN = np.eye(10)[y_train]\n",
    "Y_TEST = np.eye(10)[y_test]"
   ]
  },
  {
   "cell_type": "code",
   "execution_count": 17,
   "metadata": {},
   "outputs": [
    {
     "name": "stdout",
     "output_type": "stream",
     "text": [
      "5\n",
      "[ 0.  0.  0.  0.  0.  1.  0.  0.  0.  0.]\n"
     ]
    }
   ],
   "source": [
    "print(y_train[0])\n",
    "print(Y_TRAIN[0])"
   ]
  },
  {
   "cell_type": "markdown",
   "metadata": {},
   "source": [
    "# Kerasを使ってニューラルネットを組む"
   ]
  },
  {
   "cell_type": "markdown",
   "metadata": {},
   "source": [
    "- Kerasでニューラルネットを組む場合、まずは入り口となる`Input`レイヤーを定義する。\n",
    "- 下の例では`Input`レイヤーの次に全結合レイヤー（要するに普通のニューラルネット）`Dense`を繋げている。\n",
    "- 分類問題の場合、出力の直前に`softmax`関数をかける。\n",
    "- 入力は28✖️28の画像を一本の長いベクトルにしたものなので、28✖️28=784次元。\n",
    "- `shape=784`とするとエラーが出る。\n",
    "    - `shape`にはタプルというデータ形式を渡さなければならない。\n",
    "    - スカラー量をタプルで表現する場合は、丸括弧とカンマを使って  \n",
    "    `(スカラー,)`  \n",
    "    とする。\n",
    "- 0~9の計10個のクラスに分類するので、出力は10次元。"
   ]
  },
  {
   "cell_type": "code",
   "execution_count": 18,
   "metadata": {},
   "outputs": [
    {
     "name": "stderr",
     "output_type": "stream",
     "text": [
      "Using TensorFlow backend.\n"
     ]
    }
   ],
   "source": [
    "from keras.layers import Input, Dense\n",
    "\n",
    "x = Input(shape=(784,))\n",
    "y = Dense(10, activation='softmax')(x)"
   ]
  },
  {
   "cell_type": "code",
   "execution_count": 19,
   "metadata": {
    "collapsed": true
   },
   "outputs": [],
   "source": [
    "from keras.models import Model\n",
    "\n",
    "neuralnet = Model(inputs=x, outputs=y)"
   ]
  },
  {
   "cell_type": "markdown",
   "metadata": {},
   "source": [
    "- 構築したニューラルネットの詳細を表示する。\n",
    "    - Layer (type): レイヤーの種類。\n",
    "    - Output Shape: レイヤーを通り抜けた後のマトリクスのshape\n",
    "    - Param #: パラメータの数"
   ]
  },
  {
   "cell_type": "code",
   "execution_count": 20,
   "metadata": {},
   "outputs": [
    {
     "name": "stdout",
     "output_type": "stream",
     "text": [
      "_________________________________________________________________\n",
      "Layer (type)                 Output Shape              Param #   \n",
      "=================================================================\n",
      "input_1 (InputLayer)         (None, 784)               0         \n",
      "_________________________________________________________________\n",
      "dense_1 (Dense)              (None, 10)                7850      \n",
      "=================================================================\n",
      "Total params: 7,850\n",
      "Trainable params: 7,850\n",
      "Non-trainable params: 0\n",
      "_________________________________________________________________\n"
     ]
    }
   ],
   "source": [
    "neuralnet.summary()"
   ]
  },
  {
   "cell_type": "markdown",
   "metadata": {},
   "source": [
    "- 損失関数と最適化手法を決める。\n",
    "- 分類問題なら損失関数は`categorical_crossentropy`でOK。\n",
    "- 最適化手法はとりあえず`adam`にしておけばたいていの場合問題ない。\n",
    "- `metrics`のところに`acc`を指定すると、訓練中の分類精度の変遷が記録できる。\n",
    "    - `metrics`はリスト形式で複数の値を渡すことができるようになっている。1つしか与えない場合でもリストにする（[　]で囲む）。"
   ]
  },
  {
   "cell_type": "code",
   "execution_count": 21,
   "metadata": {
    "collapsed": true
   },
   "outputs": [],
   "source": [
    "neuralnet.compile(\n",
    "    loss='categorical_crossentropy', \n",
    "    optimizer='adam',\n",
    "    metrics=['acc'],\n",
    ")"
   ]
  },
  {
   "cell_type": "markdown",
   "metadata": {},
   "source": [
    "# 訓練"
   ]
  },
  {
   "cell_type": "markdown",
   "metadata": {},
   "source": [
    "- `fit`メソッドを使って訓練する。  \n",
    "    x: 入力  \n",
    "    y: 教師データ  \n",
    "    epochs: 訓練回数  \n",
    "    validation_split: 訓練データのうち、どの程度の割合をvalidationデータにするか\n",
    "- validationデータはパラメータ更新には使わない。オーバーフィットの検知のために使う。"
   ]
  },
  {
   "cell_type": "code",
   "execution_count": 22,
   "metadata": {},
   "outputs": [
    {
     "name": "stdout",
     "output_type": "stream",
     "text": [
      "Train on 54000 samples, validate on 6000 samples\n",
      "Epoch 1/30\n",
      "54000/54000 [==============================] - 2s - loss: 0.4949 - acc: 0.8709 - val_loss: 0.2705 - val_acc: 0.9282\n",
      "Epoch 2/30\n",
      "54000/54000 [==============================] - 2s - loss: 0.3140 - acc: 0.9129 - val_loss: 0.2428 - val_acc: 0.9365\n",
      "Epoch 3/30\n",
      "54000/54000 [==============================] - 2s - loss: 0.2917 - acc: 0.9189 - val_loss: 0.2336 - val_acc: 0.9367\n",
      "Epoch 4/30\n",
      "54000/54000 [==============================] - 2s - loss: 0.2803 - acc: 0.9216 - val_loss: 0.2306 - val_acc: 0.9380\n",
      "Epoch 5/30\n",
      "54000/54000 [==============================] - 2s - loss: 0.2733 - acc: 0.9234 - val_loss: 0.2278 - val_acc: 0.9375\n",
      "Epoch 6/30\n",
      "54000/54000 [==============================] - 2s - loss: 0.2682 - acc: 0.9246 - val_loss: 0.2259 - val_acc: 0.9393\n",
      "Epoch 7/30\n",
      "54000/54000 [==============================] - 2s - loss: 0.2641 - acc: 0.9257 - val_loss: 0.2245 - val_acc: 0.9402\n",
      "Epoch 8/30\n",
      "54000/54000 [==============================] - 2s - loss: 0.2611 - acc: 0.9271 - val_loss: 0.2227 - val_acc: 0.9410\n",
      "Epoch 9/30\n",
      "54000/54000 [==============================] - 2s - loss: 0.2584 - acc: 0.9281 - val_loss: 0.2259 - val_acc: 0.9377\n",
      "Epoch 10/30\n",
      "54000/54000 [==============================] - 2s - loss: 0.2561 - acc: 0.9287 - val_loss: 0.2222 - val_acc: 0.9397\n",
      "Epoch 11/30\n",
      "54000/54000 [==============================] - 2s - loss: 0.2541 - acc: 0.9290 - val_loss: 0.2230 - val_acc: 0.9392\n",
      "Epoch 12/30\n",
      "54000/54000 [==============================] - 2s - loss: 0.2524 - acc: 0.9292 - val_loss: 0.2239 - val_acc: 0.9388\n",
      "Epoch 13/30\n",
      "54000/54000 [==============================] - 2s - loss: 0.2509 - acc: 0.9304 - val_loss: 0.2225 - val_acc: 0.9395\n",
      "Epoch 14/30\n",
      "54000/54000 [==============================] - 2s - loss: 0.2491 - acc: 0.9312 - val_loss: 0.2228 - val_acc: 0.9377\n",
      "Epoch 15/30\n",
      "54000/54000 [==============================] - 2s - loss: 0.2481 - acc: 0.9314 - val_loss: 0.2252 - val_acc: 0.9377\n",
      "Epoch 16/30\n",
      "54000/54000 [==============================] - 2s - loss: 0.2464 - acc: 0.9326 - val_loss: 0.2246 - val_acc: 0.9382\n",
      "Epoch 17/30\n",
      "54000/54000 [==============================] - 2s - loss: 0.2457 - acc: 0.9317 - val_loss: 0.2260 - val_acc: 0.9375\n",
      "Epoch 18/30\n",
      "54000/54000 [==============================] - 2s - loss: 0.2447 - acc: 0.9321 - val_loss: 0.2218 - val_acc: 0.9418\n",
      "Epoch 19/30\n",
      "54000/54000 [==============================] - 2s - loss: 0.2443 - acc: 0.9326 - val_loss: 0.2221 - val_acc: 0.9388\n",
      "Epoch 20/30\n",
      "54000/54000 [==============================] - 2s - loss: 0.2430 - acc: 0.9325 - val_loss: 0.2241 - val_acc: 0.9388\n",
      "Epoch 21/30\n",
      "54000/54000 [==============================] - 2s - loss: 0.2426 - acc: 0.9329 - val_loss: 0.2230 - val_acc: 0.9413\n",
      "Epoch 22/30\n",
      "54000/54000 [==============================] - 2s - loss: 0.2416 - acc: 0.9331 - val_loss: 0.2267 - val_acc: 0.9375\n",
      "Epoch 23/30\n",
      "54000/54000 [==============================] - 2s - loss: 0.2405 - acc: 0.9334 - val_loss: 0.2287 - val_acc: 0.9395\n",
      "Epoch 24/30\n",
      "54000/54000 [==============================] - 2s - loss: 0.2402 - acc: 0.9335 - val_loss: 0.2273 - val_acc: 0.9395\n",
      "Epoch 25/30\n",
      "54000/54000 [==============================] - 2s - loss: 0.2403 - acc: 0.9331 - val_loss: 0.2258 - val_acc: 0.9385\n",
      "Epoch 26/30\n",
      "54000/54000 [==============================] - 2s - loss: 0.2387 - acc: 0.9334 - val_loss: 0.2259 - val_acc: 0.9377\n",
      "Epoch 27/30\n",
      "54000/54000 [==============================] - 2s - loss: 0.2382 - acc: 0.9340 - val_loss: 0.2282 - val_acc: 0.9373\n",
      "Epoch 28/30\n",
      "54000/54000 [==============================] - 2s - loss: 0.2383 - acc: 0.9335 - val_loss: 0.2260 - val_acc: 0.9380\n",
      "Epoch 29/30\n",
      "54000/54000 [==============================] - 2s - loss: 0.2373 - acc: 0.9346 - val_loss: 0.2301 - val_acc: 0.9380\n",
      "Epoch 30/30\n",
      "54000/54000 [==============================] - 2s - loss: 0.2367 - acc: 0.9337 - val_loss: 0.2298 - val_acc: 0.9368\n"
     ]
    }
   ],
   "source": [
    "hist = neuralnet.fit(\n",
    "    x = X_TRAIN,\n",
    "    y = Y_TRAIN,\n",
    "    epochs=30,\n",
    "    validation_split=0.1,\n",
    ")"
   ]
  },
  {
   "cell_type": "markdown",
   "metadata": {},
   "source": [
    "# 訓練結果の確認"
   ]
  },
  {
   "cell_type": "markdown",
   "metadata": {},
   "source": [
    "- ロスの変遷"
   ]
  },
  {
   "cell_type": "code",
   "execution_count": 23,
   "metadata": {},
   "outputs": [
    {
     "data": {
      "text/plain": [
       "<matplotlib.text.Text at 0x1406d8fd0>"
      ]
     },
     "execution_count": 23,
     "metadata": {},
     "output_type": "execute_result"
    },
    {
     "data": {
      "image/png": "[encoded data removed]",
      "text/plain": [
       "<matplotlib.figure.Figure at 0x140681b70>"
      ]
     },
     "metadata": {},
     "output_type": "display_data"
    }
   ],
   "source": [
    "plt.plot(hist.epoch, hist.history['loss'], label='train_loss')\n",
    "plt.plot(hist.epoch, hist.history['val_loss'], label='val_loss')\n",
    "plt.legend()\n",
    "plt.xlabel('epoch')\n",
    "plt.ylabel('loss')"
   ]
  },
  {
   "cell_type": "markdown",
   "metadata": {},
   "source": [
    "- 分類精度の変遷"
   ]
  },
  {
   "cell_type": "code",
   "execution_count": 24,
   "metadata": {},
   "outputs": [
    {
     "data": {
      "text/plain": [
       "<matplotlib.text.Text at 0x14070bf98>"
      ]
     },
     "execution_count": 24,
     "metadata": {},
     "output_type": "execute_result"
    },
    {
     "data": {
      "image/png": "[encoded data removed]",
      "text/plain": [
       "<matplotlib.figure.Figure at 0x140681ba8>"
      ]
     },
     "metadata": {},
     "output_type": "display_data"
    }
   ],
   "source": [
    "plt.plot(hist.epoch, hist.history['acc'], label='train_acc')\n",
    "plt.plot(hist.epoch, hist.history['val_acc'], label='val_acc')\n",
    "plt.legend()\n",
    "plt.xlabel('epoch')\n",
    "plt.ylabel('lacc')"
   ]
  },
  {
   "cell_type": "markdown",
   "metadata": {},
   "source": [
    "- 訓練後のニューラルネットにテストデータを入れて予測する。\n",
    "- `Model`クラスの`evaluate`メソッドを使う。\n",
    "    - 返り値は[損失, 分類精度]のリスト。"
   ]
  },
  {
   "cell_type": "code",
   "execution_count": 25,
   "metadata": {},
   "outputs": [
    {
     "name": "stdout",
     "output_type": "stream",
     "text": [
      " 8224/10000 [=======================>......] - ETA: 0s"
     ]
    },
    {
     "data": {
      "text/plain": [
       "[0.27341871379017829, 0.92769999999999997]"
      ]
     },
     "execution_count": 25,
     "metadata": {},
     "output_type": "execute_result"
    }
   ],
   "source": [
    "neuralnet.evaluate(x=X_TEST, y=Y_TEST)"
   ]
  },
  {
   "cell_type": "markdown",
   "metadata": {},
   "source": [
    "- テストデータを訓練済みニューラルネットに入れた時の予測値を取り出す\n",
    "- 10次元ベクトルになっているので、もっとも値の大きな次元だけを`argmax`を使って取り出す\n",
    "    - `axis=1`を指定しないと、全データ＆全次元の中で最大の値を持っているインデックスが返ってきてしまう。"
   ]
  },
  {
   "cell_type": "code",
   "execution_count": 26,
   "metadata": {},
   "outputs": [
    {
     "name": "stdout",
     "output_type": "stream",
     "text": [
      "[7 2 1 ..., 4 5 6]\n"
     ]
    }
   ],
   "source": [
    "pred = neuralnet.predict(X_TEST).argmax(axis=1)\n",
    "print(pred)"
   ]
  },
  {
   "cell_type": "markdown",
   "metadata": {},
   "source": [
    "- 入力画像と予測ラベルを同時に表示して予測の正しさを確認する。"
   ]
  },
  {
   "cell_type": "code",
   "execution_count": 27,
   "metadata": {},
   "outputs": [
    {
     "data": {
      "text/plain": [
       "<matplotlib.text.Text at 0x140825c88>"
      ]
     },
     "execution_count": 27,
     "metadata": {},
     "output_type": "execute_result"
    },
    {
     "data": {
      "image/png": "[encoded data removed]",
      "text/plain": [
       "<matplotlib.figure.Figure at 0x1407dae80>"
      ]
     },
     "metadata": {},
     "output_type": "display_data"
    }
   ],
   "source": [
    "plt.imshow(x_test[0])\n",
    "plt.title(str(pred[0]))"
   ]
  },
  {
   "cell_type": "code",
   "execution_count": null,
   "metadata": {
    "collapsed": true
   },
   "outputs": [],
   "source": []
  }
 ],
 "metadata": {
  "kernelspec": {
   "display_name": "Python 3",
   "language": "python",
   "name": "python3"
  },
  "language_info": {
   "codemirror_mode": {
    "name": "ipython",
    "version": 3
   },
   "file_extension": ".py",
   "mimetype": "text/x-python",
   "name": "python",
   "nbconvert_exporter": "python",
   "pygments_lexer": "ipython3",
   "version": "3.6.2"
  }
 },
 "nbformat": 4,
 "nbformat_minor": 2
}
