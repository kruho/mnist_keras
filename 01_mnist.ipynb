{
 "cells": [
  {
   "cell_type": "markdown",
   "metadata": {},
   "source": [
    "# 手書き数字のデータセットMNISTを見る\n",
    "- 使用するデータはMNIST。\n",
    "    - オリジナルデータの配布元はhttp://yann.lecun.com/exdb/mnist/\n",
    "    - 手書き数字の画像データと、各画像の数字ラベルが入っている。\n",
    "    - 訓練用に60,000データ、テスト用に10,000データ揃っている。\n",
    "    - オリジナルデータはバイナリになっているので使いにくい。別サーバにアップされている加工済みデータを使う。"
   ]
  },
  {
   "cell_type": "markdown",
   "metadata": {},
   "source": [
    "# データ読み込み"
   ]
  },
  {
   "cell_type": "markdown",
   "metadata": {},
   "source": [
    "- `numpy`は配列演算をするpythonライブラリ。\n",
    "    - 裏でBLASとLAPACKが動いている。\n",
    "    - numpyのソースはC言語で書かれている（だから速い）。\n",
    "- `import`はライブラリを読み込む文。\n",
    "    - `as`に続く文字はショートカット。\n",
    "    - `numpy`と打ち込むのが面倒＆ソースコードが長くなるので、短く`np`と命名する。"
   ]
  },
  {
   "cell_type": "code",
   "execution_count": 1,
   "metadata": {
    "collapsed": true
   },
   "outputs": [],
   "source": [
    "import numpy as np"
   ]
  },
  {
   "cell_type": "markdown",
   "metadata": {},
   "source": [
    "- https://s3.amazonaws.com/img-datasets/mnist.npz  \n",
    "にアクセスして`mnist.npz`をダウンロードし、同じディレクトリに入れておく。\n",
    "- `numpy`には`npz`形式のデータを読み込む`load`というメソッドがある。\n",
    "    - `npz`は`numpy`配列を保存するときのデータ形式の一種。\n",
    "    - メソッドとはクラスの中で定義された関数。\n",
    "    - `numpy`という名前の物体の中に`load`という名前の関数が格納されている、くらいの認識でOK。\n",
    "- `mnist.npz`というファイルを読み込んだ結果を`f`に格納する。"
   ]
  },
  {
   "cell_type": "code",
   "execution_count": 2,
   "metadata": {
    "collapsed": true
   },
   "outputs": [],
   "source": [
    "f = np.load('mnist.npz')"
   ]
  },
  {
   "cell_type": "markdown",
   "metadata": {},
   "source": [
    "- `f`にどんなデータが入っているかを調べるには`f.keys()`と打てば良い。\n",
    "- `f.keys()`の最後の丸括弧()は必須。`f.keys()`だと`f`の中に入っている`keys`という__関数__を呼び出せるが、`f.keys`と書いてしまうと`f`の中に入っている`keys`という名前の__変数__を呼び出そうとしてしまう。"
   ]
  },
  {
   "cell_type": "code",
   "execution_count": 3,
   "metadata": {},
   "outputs": [
    {
     "data": {
      "text/plain": [
       "['x_test', 'x_train', 'y_train', 'y_test']"
      ]
     },
     "execution_count": 3,
     "metadata": {},
     "output_type": "execute_result"
    }
   ],
   "source": [
    "f.keys()"
   ]
  },
  {
   "cell_type": "markdown",
   "metadata": {},
   "source": [
    "- `f`からデータを取り出す。\n",
    "    - `x_train`: 訓練に使う数字画像\n",
    "    - `y_train`: 訓練に使う数字ラベル\n",
    "    - `x_test`: テストに使う数字画像\n",
    "    - `y_test`: テストに使う数字ラベル\n",
    "    - 訓練用のデータを使ってニューラルネットを最適化する。\n",
    "    - 訓練が終わった後、ニューラルネットは次のどちらかの状態になっている。\n",
    "        1. 数字とはどんな特徴を持っているかを把握して、画像から数字を認識できる\n",
    "        2. 訓練データを丸暗記しているだけで、認識はできていない\n",
    "    - 2.の状態になっていても使い物にならないので、テストデータ（見たことのない画像データ）をニューラルネットに入力して、ちゃんと数字ラベルを当てられるかどうかを確認する。\n",
    "- `f`からデータを取り出すときは、角括弧`[]`の中に`f.keys()`で確認した文字列を入れる。文字列は必ずシングルクォートまたはダブルクォートで囲む(`'文字列'`または`\"文字列\"`)。"
   ]
  },
  {
   "cell_type": "code",
   "execution_count": 4,
   "metadata": {
    "collapsed": true
   },
   "outputs": [],
   "source": [
    "x_train = f['x_train']\n",
    "y_train = f['y_train']\n",
    "x_test = f['x_test']\n",
    "y_test = f['y_test']"
   ]
  },
  {
   "cell_type": "markdown",
   "metadata": {},
   "source": [
    "# 読み込んだデータの確認"
   ]
  },
  {
   "cell_type": "markdown",
   "metadata": {},
   "source": [
    "- 変数をベタがきすると、その中身が表示される"
   ]
  },
  {
   "cell_type": "code",
   "execution_count": 5,
   "metadata": {},
   "outputs": [
    {
     "data": {
      "text/plain": [
       "array([[[0, 0, 0, ..., 0, 0, 0],\n",
       "        [0, 0, 0, ..., 0, 0, 0],\n",
       "        [0, 0, 0, ..., 0, 0, 0],\n",
       "        ..., \n",
       "        [0, 0, 0, ..., 0, 0, 0],\n",
       "        [0, 0, 0, ..., 0, 0, 0],\n",
       "        [0, 0, 0, ..., 0, 0, 0]],\n",
       "\n",
       "       [[0, 0, 0, ..., 0, 0, 0],\n",
       "        [0, 0, 0, ..., 0, 0, 0],\n",
       "        [0, 0, 0, ..., 0, 0, 0],\n",
       "        ..., \n",
       "        [0, 0, 0, ..., 0, 0, 0],\n",
       "        [0, 0, 0, ..., 0, 0, 0],\n",
       "        [0, 0, 0, ..., 0, 0, 0]],\n",
       "\n",
       "       [[0, 0, 0, ..., 0, 0, 0],\n",
       "        [0, 0, 0, ..., 0, 0, 0],\n",
       "        [0, 0, 0, ..., 0, 0, 0],\n",
       "        ..., \n",
       "        [0, 0, 0, ..., 0, 0, 0],\n",
       "        [0, 0, 0, ..., 0, 0, 0],\n",
       "        [0, 0, 0, ..., 0, 0, 0]],\n",
       "\n",
       "       ..., \n",
       "       [[0, 0, 0, ..., 0, 0, 0],\n",
       "        [0, 0, 0, ..., 0, 0, 0],\n",
       "        [0, 0, 0, ..., 0, 0, 0],\n",
       "        ..., \n",
       "        [0, 0, 0, ..., 0, 0, 0],\n",
       "        [0, 0, 0, ..., 0, 0, 0],\n",
       "        [0, 0, 0, ..., 0, 0, 0]],\n",
       "\n",
       "       [[0, 0, 0, ..., 0, 0, 0],\n",
       "        [0, 0, 0, ..., 0, 0, 0],\n",
       "        [0, 0, 0, ..., 0, 0, 0],\n",
       "        ..., \n",
       "        [0, 0, 0, ..., 0, 0, 0],\n",
       "        [0, 0, 0, ..., 0, 0, 0],\n",
       "        [0, 0, 0, ..., 0, 0, 0]],\n",
       "\n",
       "       [[0, 0, 0, ..., 0, 0, 0],\n",
       "        [0, 0, 0, ..., 0, 0, 0],\n",
       "        [0, 0, 0, ..., 0, 0, 0],\n",
       "        ..., \n",
       "        [0, 0, 0, ..., 0, 0, 0],\n",
       "        [0, 0, 0, ..., 0, 0, 0],\n",
       "        [0, 0, 0, ..., 0, 0, 0]]], dtype=uint8)"
      ]
     },
     "execution_count": 5,
     "metadata": {},
     "output_type": "execute_result"
    }
   ],
   "source": [
    "x_train"
   ]
  },
  {
   "cell_type": "code",
   "execution_count": 6,
   "metadata": {},
   "outputs": [
    {
     "data": {
      "text/plain": [
       "array([5, 0, 4, ..., 5, 6, 8], dtype=uint8)"
      ]
     },
     "execution_count": 6,
     "metadata": {},
     "output_type": "execute_result"
    }
   ],
   "source": [
    "y_train"
   ]
  },
  {
   "cell_type": "markdown",
   "metadata": {},
   "source": [
    "- `numpy配列.shape`で配列の大きさが表示できる"
   ]
  },
  {
   "cell_type": "code",
   "execution_count": 7,
   "metadata": {},
   "outputs": [
    {
     "data": {
      "text/plain": [
       "(60000, 28, 28)"
      ]
     },
     "execution_count": 7,
     "metadata": {},
     "output_type": "execute_result"
    }
   ],
   "source": [
    "x_train.shape"
   ]
  },
  {
   "cell_type": "code",
   "execution_count": 8,
   "metadata": {},
   "outputs": [
    {
     "data": {
      "text/plain": [
       "(60000,)"
      ]
     },
     "execution_count": 8,
     "metadata": {},
     "output_type": "execute_result"
    }
   ],
   "source": [
    "y_train.shape"
   ]
  },
  {
   "cell_type": "markdown",
   "metadata": {},
   "source": [
    "- `matplotlib`を使って画像を表示する。\n",
    "    - `matplotlib`はpythonのグラフ描画ライブラリ。\n",
    "    - `matplotlib`というライブラリの中に`pyplot`というクラスがある。これを使いたい場合は、`import`するときに`matplotlib.pyplot`とする。\n",
    "    - 毎回`matplotlib.pyplot`と打つのが面倒なので、これは`plt`という名前にしておく。\n",
    "    - Jupyter Notebookの中で`matplotlib`の図を表示するために、`%matplotlib inline`を書いておく。\n",
    "- `pyplot`の中に`imshow`という名前の関数がある。これは2次元配列を受け取って画像を表示する関数。\n",
    "    - 下の例では全部で60,000枚ある画像のうち、１番目（インデックスは0）の画像を表示している。"
   ]
  },
  {
   "cell_type": "code",
   "execution_count": 9,
   "metadata": {},
   "outputs": [
    {
     "data": {
      "text/plain": [
       "<matplotlib.image.AxesImage at 0x111a20208>"
      ]
     },
     "execution_count": 9,
     "metadata": {},
     "output_type": "execute_result"
    },
    {
     "data": {
      "image/png": "[encoded data removed]",
      "text/plain": [
       "<matplotlib.figure.Figure at 0x10d7964e0>"
      ]
     },
     "metadata": {},
     "output_type": "display_data"
    }
   ],
   "source": [
    "import matplotlib.pyplot as plt\n",
    "%matplotlib inline\n",
    "\n",
    "plt.imshow(x_train[0])"
   ]
  },
  {
   "cell_type": "markdown",
   "metadata": {},
   "source": [
    "- `pyplot`の中にある`title`という関数を使うと、画像の上部に文字を表示できる。\n",
    "- `title`には文字列を入力しないといけないので、`str`という組み込み関数を使って`numpy`配列を文字列に変換している。"
   ]
  },
  {
   "cell_type": "code",
   "execution_count": 10,
   "metadata": {},
   "outputs": [
    {
     "data": {
      "text/plain": [
       "<matplotlib.text.Text at 0x111b265c0>"
      ]
     },
     "execution_count": 10,
     "metadata": {},
     "output_type": "execute_result"
    },
    {
     "data": {
      "image/png": "[encoded data removed]",
      "text/plain": [
       "<matplotlib.figure.Figure at 0x1119e7c50>"
      ]
     },
     "metadata": {},
     "output_type": "display_data"
    }
   ],
   "source": [
    "plt.imshow(x_train[0])\n",
    "plt.title(str(y_train[0]))"
   ]
  },
  {
   "cell_type": "markdown",
   "metadata": {},
   "source": [
    "# ニューラルネット用にデータを変換"
   ]
  },
  {
   "cell_type": "markdown",
   "metadata": {},
   "source": [
    "- ニューラルネットは入力が1次元状の配列なので、入力配列（画像）の形を変更する。\n",
    "    - 正確にいうと、今回の場合は入力ベクトルは784次元。ランクが１。\n",
    "- 配列の形の変更は、`numpy`の`reshape`という関数を使う。\n",
    "    - `reshape`は第１引数に変更したい配列、第２引数に変更後の配列の形を渡す。\n",
    "    - 配列の形は丸括弧で表す。\n",
    "    - 配列の形を変更したものは大文字の変数で格納しておく。  \n",
    "        `x_train`→`X_TRAIN`  \n",
    "        `x_test`→`X_TEST`\n",
    "- 変更前後の配列の形を表示する。\n",
    "    - `print`を使っても表示できる。\n",
    "    - 丸括弧の中に表示したい変数を書く。\n",
    "- ニューラルネットの入力は[0, 1]や[-1,1]の範囲にしておくと良いので、255で割っておく。"
   ]
  },
  {
   "cell_type": "code",
   "execution_count": 11,
   "metadata": {
    "collapsed": true
   },
   "outputs": [],
   "source": [
    "X_TRAIN = np.reshape(x_train, (60000, 784)) / 255.\n",
    "X_TEST = np.reshape(x_test, (10000, 784)) / 255."
   ]
  },
  {
   "cell_type": "code",
   "execution_count": 12,
   "metadata": {},
   "outputs": [
    {
     "name": "stdout",
     "output_type": "stream",
     "text": [
      "(60000, 28, 28) (60000, 784)\n"
     ]
    }
   ],
   "source": [
    "print(x_train.shape, X_TRAIN.shape)"
   ]
  },
  {
   "cell_type": "code",
   "execution_count": 13,
   "metadata": {},
   "outputs": [
    {
     "name": "stdout",
     "output_type": "stream",
     "text": [
      "(10000, 28, 28) (10000, 784)\n"
     ]
    }
   ],
   "source": [
    "print(x_test.shape, X_TEST.shape)"
   ]
  },
  {
   "cell_type": "markdown",
   "metadata": {},
   "source": [
    "- [0,1]の範囲になっていることを確認する。\n",
    "- `numpy`配列は、配列自身が`min`や`max`といった関数を持っている。これで配列の最小値と最大値を調べる。"
   ]
  },
  {
   "cell_type": "code",
   "execution_count": 14,
   "metadata": {},
   "outputs": [
    {
     "name": "stdout",
     "output_type": "stream",
     "text": [
      "0 255\n"
     ]
    }
   ],
   "source": [
    "print(x_train.min(), x_train.max())"
   ]
  },
  {
   "cell_type": "code",
   "execution_count": 15,
   "metadata": {},
   "outputs": [
    {
     "name": "stdout",
     "output_type": "stream",
     "text": [
      "0.0 1.0\n"
     ]
    }
   ],
   "source": [
    "print(X_TRAIN.min(), X_TRAIN.max())"
   ]
  },
  {
   "cell_type": "markdown",
   "metadata": {},
   "source": [
    "- 数字ラベルを当てる場合、答えのデータはone-hotベクトルにしておく。\n",
    "    - 5 → [0 0 0 0 0 1 0 0 0 0]\n",
    "    - 3 → [0 0 0 1 0 0 0 0 0 0]\n",
    "- one-hotベクトルに変換する方法は色々あるが、とりあえず下のように書けばOK。\n",
    "- one-hotベクトルにしたものは大文字の変数で格納しておく。  \n",
    "    `y_train`→`Y_TRAIN`  \n",
    "    `y_test`→`Y_TEST`"
   ]
  },
  {
   "cell_type": "code",
   "execution_count": 16,
   "metadata": {
    "collapsed": true
   },
   "outputs": [],
   "source": [
    "Y_TRAIN = np.eye(10)[y_train]\n",
    "Y_TEST = np.eye(10)[y_test]"
   ]
  },
  {
   "cell_type": "code",
   "execution_count": 17,
   "metadata": {},
   "outputs": [
    {
     "name": "stdout",
     "output_type": "stream",
     "text": [
      "5\n",
      "[ 0.  0.  0.  0.  0.  1.  0.  0.  0.  0.]\n"
     ]
    }
   ],
   "source": [
    "print(y_train[0])\n",
    "print(Y_TRAIN[0])"
   ]
  },
  {
   "cell_type": "code",
   "execution_count": null,
   "metadata": {
    "collapsed": true
   },
   "outputs": [],
   "source": []
  }
 ],
 "metadata": {
  "kernelspec": {
   "display_name": "Python 3",
   "language": "python",
   "name": "python3"
  },
  "language_info": {
   "codemirror_mode": {
    "name": "ipython",
    "version": 3
   },
   "file_extension": ".py",
   "mimetype": "text/x-python",
   "name": "python",
   "nbconvert_exporter": "python",
   "pygments_lexer": "ipython3",
   "version": "3.6.2"
  }
 },
 "nbformat": 4,
 "nbformat_minor": 2
}
