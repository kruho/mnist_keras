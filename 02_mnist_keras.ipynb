{
 "cells": [
  {
   "cell_type": "markdown",
   "metadata": {},
   "source": [
    "# 手書き数字認識問題を解く\n",
    "- 使用するデータはMNIST。\n",
    "- シンプルなニューラルネットを使って、手書き数字認識をする。\n",
    "    - [入力] 手書き数字の画像データ\n",
    "    - [出力] 数字ラベル\n",
    "- ニューラルネットには隠れ層を入れない。\n",
    "    - 画像を__x__、ラベルを__y__とすれば、__x__→__y__"
   ]
  },
  {
   "cell_type": "markdown",
   "metadata": {},
   "source": [
    "# データ読み込み&ニューラルネット用に変換\n",
    "- 詳細は01_mnist.ipynbを参照"
   ]
  },
  {
   "cell_type": "code",
   "execution_count": 1,
   "metadata": {
    "collapsed": true
   },
   "outputs": [],
   "source": [
    "import numpy as np\n",
    "\n",
    "f = np.load('mnist.npz')\n",
    "x_train = f['x_train']\n",
    "y_train = f['y_train']\n",
    "x_test = f['x_test']\n",
    "y_test = f['y_test']\n",
    "\n",
    "# 28✖️28ピクセルの画像を784次元ベクトルに変換　＆　[0,1]に正規化\n",
    "X_TRAIN = np.reshape(x_train, (60000, 784)) / 255.\n",
    "X_TEST = np.reshape(x_test, (10000, 784)) / 255.\n",
    "\n",
    "# one-hotベクトルに変換\n",
    "Y_TRAIN = np.eye(10)[y_train]\n",
    "Y_TEST = np.eye(10)[y_test]"
   ]
  },
  {
   "cell_type": "markdown",
   "metadata": {},
   "source": [
    "# Kerasを使ってニューラルネットを組む"
   ]
  },
  {
   "cell_type": "markdown",
   "metadata": {},
   "source": [
    "- Kerasでニューラルネットを組む場合、まずは入り口となる`Input`レイヤーを定義する。\n",
    "- 下の例では`Input`レイヤーの次に全結合レイヤー（要するに普通のニューラルネット）`Dense`を繋げている。\n",
    "- 分類問題の場合、出力の直前に`softmax`関数をかける。\n",
    "- 入力は28✖️28の画像を一本の長いベクトルにしたものなので、28✖️28=784次元。\n",
    "- `shape=784`とするとエラーが出る。\n",
    "    - `shape`にはタプルというデータ形式を渡さなければならない。\n",
    "    - スカラー量をタプルで表現する場合は、丸括弧とカンマを使って  \n",
    "    `(スカラー,)`  \n",
    "    とする。\n",
    "- 0~9の計10個のクラスに分類するので、出力は10次元。"
   ]
  },
  {
   "cell_type": "code",
   "execution_count": 2,
   "metadata": {},
   "outputs": [
    {
     "name": "stderr",
     "output_type": "stream",
     "text": [
      "Using TensorFlow backend.\n"
     ]
    }
   ],
   "source": [
    "from keras.layers import Input, Dense\n",
    "\n",
    "x = Input(shape=(784,))\n",
    "y = Dense(10, activation='softmax')(x)"
   ]
  },
  {
   "cell_type": "code",
   "execution_count": 3,
   "metadata": {
    "collapsed": true
   },
   "outputs": [],
   "source": [
    "from keras.models import Model\n",
    "\n",
    "neuralnet = Model(inputs=x, outputs=y)"
   ]
  },
  {
   "cell_type": "markdown",
   "metadata": {},
   "source": [
    "- 構築したニューラルネットの詳細を表示する。\n",
    "    - Layer (type): レイヤーの種類。\n",
    "    - Output Shape: レイヤーを通り抜けた後のマトリクスのshape\n",
    "    - Param #: パラメータの数"
   ]
  },
  {
   "cell_type": "code",
   "execution_count": 4,
   "metadata": {},
   "outputs": [
    {
     "name": "stdout",
     "output_type": "stream",
     "text": [
      "_________________________________________________________________\n",
      "Layer (type)                 Output Shape              Param #   \n",
      "=================================================================\n",
      "input_1 (InputLayer)         (None, 784)               0         \n",
      "_________________________________________________________________\n",
      "dense_1 (Dense)              (None, 10)                7850      \n",
      "=================================================================\n",
      "Total params: 7,850\n",
      "Trainable params: 7,850\n",
      "Non-trainable params: 0\n",
      "_________________________________________________________________\n"
     ]
    }
   ],
   "source": [
    "neuralnet.summary()"
   ]
  },
  {
   "cell_type": "markdown",
   "metadata": {},
   "source": [
    "- 損失関数と最適化手法を決める。\n",
    "- 分類問題なら損失関数は`categorical_crossentropy`でOK。\n",
    "- 最適化手法はとりあえず`adam`にしておけばたいていの場合問題ない。\n",
    "- `metrics`のところに`acc`を指定すると、訓練中の分類精度の変遷が記録できる。\n",
    "    - `metrics`はリスト形式で複数の値を渡すことができるようになっている。1つしか与えない場合でもリストにする（[　]で囲む）。"
   ]
  },
  {
   "cell_type": "code",
   "execution_count": 5,
   "metadata": {
    "collapsed": true
   },
   "outputs": [],
   "source": [
    "neuralnet.compile(\n",
    "    loss='categorical_crossentropy', \n",
    "    optimizer='adam',\n",
    "    metrics=['acc'],\n",
    ")"
   ]
  },
  {
   "cell_type": "markdown",
   "metadata": {},
   "source": [
    "# 訓練"
   ]
  },
  {
   "cell_type": "markdown",
   "metadata": {},
   "source": [
    "- `fit`メソッドを使って訓練する。  \n",
    "    x: 入力  \n",
    "    y: 教師データ  \n",
    "    epochs: 訓練回数  \n",
    "    validation_split: 訓練データのうち、どの程度の割合をvalidationデータにするか\n",
    "- validationデータはパラメータ更新には使わない。オーバーフィットの検知のために使う。"
   ]
  },
  {
   "cell_type": "code",
   "execution_count": 6,
   "metadata": {},
   "outputs": [
    {
     "name": "stdout",
     "output_type": "stream",
     "text": [
      "Train on 54000 samples, validate on 6000 samples\n",
      "Epoch 1/30\n",
      "54000/54000 [==============================] - 2s - loss: 0.4878 - acc: 0.8726 - val_loss: 0.2718 - val_acc: 0.9248\n",
      "Epoch 2/30\n",
      "54000/54000 [==============================] - 2s - loss: 0.3136 - acc: 0.9128 - val_loss: 0.2474 - val_acc: 0.9303\n",
      "Epoch 3/30\n",
      "54000/54000 [==============================] - 2s - loss: 0.2916 - acc: 0.9192 - val_loss: 0.2352 - val_acc: 0.9357\n",
      "Epoch 4/30\n",
      "54000/54000 [==============================] - 2s - loss: 0.2802 - acc: 0.9213 - val_loss: 0.2292 - val_acc: 0.9377\n",
      "Epoch 5/30\n",
      "54000/54000 [==============================] - 2s - loss: 0.2735 - acc: 0.9232 - val_loss: 0.2261 - val_acc: 0.9392\n",
      "Epoch 6/30\n",
      "54000/54000 [==============================] - 2s - loss: 0.2685 - acc: 0.9251 - val_loss: 0.2258 - val_acc: 0.9387\n",
      "Epoch 7/30\n",
      "54000/54000 [==============================] - 2s - loss: 0.2642 - acc: 0.9259 - val_loss: 0.2222 - val_acc: 0.9383\n",
      "Epoch 8/30\n",
      "54000/54000 [==============================] - 2s - loss: 0.2612 - acc: 0.9271 - val_loss: 0.2253 - val_acc: 0.9360\n",
      "Epoch 9/30\n",
      "54000/54000 [==============================] - 2s - loss: 0.2589 - acc: 0.9282 - val_loss: 0.2238 - val_acc: 0.9407\n",
      "Epoch 10/30\n",
      "54000/54000 [==============================] - 2s - loss: 0.2560 - acc: 0.9289 - val_loss: 0.2241 - val_acc: 0.9383\n",
      "Epoch 11/30\n",
      "54000/54000 [==============================] - 2s - loss: 0.2542 - acc: 0.9291 - val_loss: 0.2248 - val_acc: 0.9380\n",
      "Epoch 12/30\n",
      "54000/54000 [==============================] - 2s - loss: 0.2524 - acc: 0.9296 - val_loss: 0.2224 - val_acc: 0.9392\n",
      "Epoch 13/30\n",
      "54000/54000 [==============================] - 2s - loss: 0.2507 - acc: 0.9306 - val_loss: 0.2256 - val_acc: 0.9395\n",
      "Epoch 14/30\n",
      "54000/54000 [==============================] - 2s - loss: 0.2497 - acc: 0.9305 - val_loss: 0.2234 - val_acc: 0.9390\n",
      "Epoch 15/30\n",
      "54000/54000 [==============================] - 2s - loss: 0.2483 - acc: 0.9315 - val_loss: 0.2252 - val_acc: 0.9377\n",
      "Epoch 16/30\n",
      "54000/54000 [==============================] - 2s - loss: 0.2467 - acc: 0.9314 - val_loss: 0.2241 - val_acc: 0.9383\n",
      "Epoch 17/30\n",
      "54000/54000 [==============================] - 2s - loss: 0.2456 - acc: 0.9313 - val_loss: 0.2229 - val_acc: 0.9388\n",
      "Epoch 18/30\n",
      "54000/54000 [==============================] - 2s - loss: 0.2452 - acc: 0.9325 - val_loss: 0.2263 - val_acc: 0.9385\n",
      "Epoch 19/30\n",
      "54000/54000 [==============================] - 2s - loss: 0.2440 - acc: 0.9331 - val_loss: 0.2253 - val_acc: 0.9392\n",
      "Epoch 20/30\n",
      "54000/54000 [==============================] - 2s - loss: 0.2428 - acc: 0.9320 - val_loss: 0.2263 - val_acc: 0.9395\n",
      "Epoch 21/30\n",
      "54000/54000 [==============================] - 2s - loss: 0.2428 - acc: 0.9329 - val_loss: 0.2272 - val_acc: 0.9402\n",
      "Epoch 22/30\n",
      "54000/54000 [==============================] - 2s - loss: 0.2418 - acc: 0.9330 - val_loss: 0.2262 - val_acc: 0.9378\n",
      "Epoch 23/30\n",
      "54000/54000 [==============================] - 2s - loss: 0.2406 - acc: 0.9331 - val_loss: 0.2234 - val_acc: 0.9405\n",
      "Epoch 24/30\n",
      "54000/54000 [==============================] - 2s - loss: 0.2401 - acc: 0.9335 - val_loss: 0.2271 - val_acc: 0.9393\n",
      "Epoch 25/30\n",
      "54000/54000 [==============================] - 2s - loss: 0.2397 - acc: 0.9334 - val_loss: 0.2289 - val_acc: 0.9387\n",
      "Epoch 26/30\n",
      "54000/54000 [==============================] - 2s - loss: 0.2392 - acc: 0.9339 - val_loss: 0.2277 - val_acc: 0.9388\n",
      "Epoch 27/30\n",
      "54000/54000 [==============================] - 2s - loss: 0.2388 - acc: 0.9340 - val_loss: 0.2287 - val_acc: 0.9395\n",
      "Epoch 28/30\n",
      "54000/54000 [==============================] - 2s - loss: 0.2378 - acc: 0.9341 - val_loss: 0.2260 - val_acc: 0.9393\n",
      "Epoch 29/30\n",
      "54000/54000 [==============================] - 2s - loss: 0.2374 - acc: 0.9345 - val_loss: 0.2315 - val_acc: 0.9372\n",
      "Epoch 30/30\n",
      "54000/54000 [==============================] - 2s - loss: 0.2372 - acc: 0.9343 - val_loss: 0.2278 - val_acc: 0.9393\n"
     ]
    }
   ],
   "source": [
    "hist = neuralnet.fit(\n",
    "    x = X_TRAIN,\n",
    "    y = Y_TRAIN,\n",
    "    epochs=30,\n",
    "    validation_split=0.1,\n",
    ")"
   ]
  },
  {
   "cell_type": "markdown",
   "metadata": {},
   "source": [
    "# 訓練結果の確認"
   ]
  },
  {
   "cell_type": "markdown",
   "metadata": {},
   "source": [
    "- ロスの変遷"
   ]
  },
  {
   "cell_type": "code",
   "execution_count": 7,
   "metadata": {},
   "outputs": [
    {
     "data": {
      "text/plain": [
       "<matplotlib.text.Text at 0x141a1b4a8>"
      ]
     },
     "execution_count": 7,
     "metadata": {},
     "output_type": "execute_result"
    },
    {
     "data": {
      "image/png": "[encoded data removed]",
      "text/plain": [
       "<matplotlib.figure.Figure at 0x1411d6978>"
      ]
     },
     "metadata": {},
     "output_type": "display_data"
    }
   ],
   "source": [
    "import matplotlib.pyplot as plt\n",
    "%matplotlib inline\n",
    "\n",
    "plt.plot(hist.epoch, hist.history['loss'], label='train_loss')\n",
    "plt.plot(hist.epoch, hist.history['val_loss'], label='val_loss')\n",
    "plt.legend()\n",
    "plt.xlabel('epoch')\n",
    "plt.ylabel('loss')"
   ]
  },
  {
   "cell_type": "markdown",
   "metadata": {},
   "source": [
    "- 分類精度の変遷"
   ]
  },
  {
   "cell_type": "code",
   "execution_count": 8,
   "metadata": {},
   "outputs": [
    {
     "data": {
      "text/plain": [
       "<matplotlib.text.Text at 0x141b897b8>"
      ]
     },
     "execution_count": 8,
     "metadata": {},
     "output_type": "execute_result"
    },
    {
     "data": {
      "image/png": "[encoded data removed]",
      "text/plain": [
       "<matplotlib.figure.Figure at 0x1411d66d8>"
      ]
     },
     "metadata": {},
     "output_type": "display_data"
    }
   ],
   "source": [
    "plt.plot(hist.epoch, hist.history['acc'], label='train_acc')\n",
    "plt.plot(hist.epoch, hist.history['val_acc'], label='val_acc')\n",
    "plt.legend()\n",
    "plt.xlabel('epoch')\n",
    "plt.ylabel('lacc')"
   ]
  },
  {
   "cell_type": "markdown",
   "metadata": {},
   "source": [
    "- 訓練後のニューラルネットにテストデータを入れて予測する。\n",
    "- `Model`クラスの`evaluate`メソッドを使う。\n",
    "    - 返り値は[損失, 分類精度]のリスト。"
   ]
  },
  {
   "cell_type": "code",
   "execution_count": 9,
   "metadata": {},
   "outputs": [
    {
     "name": "stdout",
     "output_type": "stream",
     "text": [
      " 8736/10000 [=========================>....] - ETA: 0s"
     ]
    },
    {
     "data": {
      "text/plain": [
       "[0.2758333589017391, 0.92520000000000002]"
      ]
     },
     "execution_count": 9,
     "metadata": {},
     "output_type": "execute_result"
    }
   ],
   "source": [
    "neuralnet.evaluate(x=X_TEST, y=Y_TEST)"
   ]
  },
  {
   "cell_type": "markdown",
   "metadata": {},
   "source": [
    "- テストデータを訓練済みニューラルネットに入れた時の予測値を取り出す\n",
    "- 10次元ベクトルになっているので、もっとも値の大きな次元だけを`argmax`を使って取り出す\n",
    "    - `axis=1`を指定しないと、全データ＆全次元の中で最大の値を持っているインデックスが返ってきてしまう。"
   ]
  },
  {
   "cell_type": "code",
   "execution_count": 10,
   "metadata": {},
   "outputs": [
    {
     "name": "stdout",
     "output_type": "stream",
     "text": [
      "[7 2 1 ..., 4 5 6]\n"
     ]
    }
   ],
   "source": [
    "pred = neuralnet.predict(X_TEST).argmax(axis=1)\n",
    "print(pred)"
   ]
  },
  {
   "cell_type": "markdown",
   "metadata": {},
   "source": [
    "- 入力画像と予測ラベルを同時に表示して予測の正しさを確認する。"
   ]
  },
  {
   "cell_type": "code",
   "execution_count": 11,
   "metadata": {},
   "outputs": [
    {
     "data": {
      "text/plain": [
       "<matplotlib.text.Text at 0x141ce7b00>"
      ]
     },
     "execution_count": 11,
     "metadata": {},
     "output_type": "execute_result"
    },
    {
     "data": {
      "image/png": "[encoded data removed]",
      "text/plain": [
       "<matplotlib.figure.Figure at 0x141ab6f28>"
      ]
     },
     "metadata": {},
     "output_type": "display_data"
    }
   ],
   "source": [
    "plt.imshow(x_test[0])\n",
    "plt.title(str(pred[0]))"
   ]
  },
  {
   "cell_type": "code",
   "execution_count": null,
   "metadata": {
    "collapsed": true
   },
   "outputs": [],
   "source": []
  }
 ],
 "metadata": {
  "kernelspec": {
   "display_name": "Python 3",
   "language": "python",
   "name": "python3"
  },
  "language_info": {
   "codemirror_mode": {
    "name": "ipython",
    "version": 3
   },
   "file_extension": ".py",
   "mimetype": "text/x-python",
   "name": "python",
   "nbconvert_exporter": "python",
   "pygments_lexer": "ipython3",
   "version": "3.6.2"
  }
 },
 "nbformat": 4,
 "nbformat_minor": 2
}
