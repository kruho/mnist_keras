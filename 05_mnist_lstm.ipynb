{
 "cells": [
  {
   "cell_type": "markdown",
   "metadata": {},
   "source": [
    "- 手書き数字データセットMNISTを使用。\n",
    "- 画像を千切りにして時系列データとして学習する。\n",
    "- MNISTは28x28ピクセルなので、長さ28のスペクトルが28個あるものとして扱う。\n",
    "- リカレントニューラルネット（Recurrent Neural Networks; RNN）の一種であるLSTM（Long Short-Term Memory）を使う。\n",
    "    - LSTMは入力されたデータを覚えたり忘れたりする機構がある。時系列データを学習するときによく使う。"
   ]
  },
  {
   "cell_type": "code",
   "execution_count": 1,
   "metadata": {},
   "outputs": [
    {
     "name": "stderr",
     "output_type": "stream",
     "text": [
      "Using TensorFlow backend.\n"
     ]
    }
   ],
   "source": [
    "from keras.datasets import mnist\n",
    "\n",
    "(x_train, y_train), (x_test, y_test) = mnist.load_data()"
   ]
  },
  {
   "cell_type": "code",
   "execution_count": 2,
   "metadata": {
    "collapsed": true
   },
   "outputs": [],
   "source": [
    "import numpy as np\n",
    "\n",
    "x_train = x_train / 255.\n",
    "x_test = x_test / 255.\n",
    "y_train = np.eye(10)[y_train]\n",
    "y_test = np.eye(10)[y_test]"
   ]
  },
  {
   "cell_type": "markdown",
   "metadata": {},
   "source": [
    "- 28本の千切りデータを入力するので、特徴量の次元は28次元。\n",
    "- 長さは28とわかっているが、あえてわかっていないことにしておく（不定長ベクトルとして扱う）。\n",
    "- LSTMへの入力shapeは(バッチ, シークエンス長, 特徴ベクトルの次元)とする。\n",
    "- `return_sequences`のオプションでシークエンスを返すか最後の出力だけを返すかを決められる。\n",
    "    - LSTMは時系列データを受け取っているので、受け取ったデータと同じ長さのデータを返すことができる。その場合はこのオプションをTrueにする。\n",
    "    - 一方で、最新の出力だけを知りたい場合もあるので、その場合はこのオプションをFalseにする。"
   ]
  },
  {
   "cell_type": "code",
   "execution_count": 4,
   "metadata": {
    "collapsed": true
   },
   "outputs": [],
   "source": [
    "from keras.layers import Input, LSTM, Dense\n",
    "\n",
    "x = Input(shape=(None, 28)) # (シークエンス長, 特徴量の次元)\n",
    "\n",
    "h = LSTM(\n",
    "    units=50, # 隠れ層の次元は50次元とする。\n",
    "    activation='tanh',\n",
    "    recurrent_activation='hard_sigmoid',\n",
    "    unit_forget_bias=True,\n",
    "    return_sequences=False, # ここをTrueにすると、長さNone（=28）の50次元ベクトルが返ってくる。\n",
    "    return_state=False,\n",
    ")(x)\n",
    "\n",
    "y = Dense(10, activation='softmax')(h)"
   ]
  },
  {
   "cell_type": "code",
   "execution_count": 5,
   "metadata": {},
   "outputs": [
    {
     "name": "stdout",
     "output_type": "stream",
     "text": [
      "_________________________________________________________________\n",
      "Layer (type)                 Output Shape              Param #   \n",
      "=================================================================\n",
      "input_1 (InputLayer)         (None, None, 28)          0         \n",
      "_________________________________________________________________\n",
      "lstm_1 (LSTM)                (None, 50)                15800     \n",
      "_________________________________________________________________\n",
      "dense_1 (Dense)              (None, 10)                510       \n",
      "=================================================================\n",
      "Total params: 16,310\n",
      "Trainable params: 16,310\n",
      "Non-trainable params: 0\n",
      "_________________________________________________________________\n"
     ]
    }
   ],
   "source": [
    "from keras.models import Model\n",
    "\n",
    "model = Model(x,y)\n",
    "model.compile(loss='categorical_crossentropy', optimizer='adam', metrics=['acc'])\n",
    "model.summary()"
   ]
  },
  {
   "cell_type": "code",
   "execution_count": 6,
   "metadata": {},
   "outputs": [
    {
     "name": "stdout",
     "output_type": "stream",
     "text": [
      "Train on 54000 samples, validate on 6000 samples\n",
      "Epoch 1/10\n",
      "54000/54000 [==============================] - 137s - loss: 0.5137 - acc: 0.8378 - val_loss: 0.1864 - val_acc: 0.9457\n",
      "Epoch 2/10\n",
      "54000/54000 [==============================] - 136s - loss: 0.1690 - acc: 0.9489 - val_loss: 0.1156 - val_acc: 0.9675\n",
      "Epoch 3/10\n",
      "54000/54000 [==============================] - 134s - loss: 0.1164 - acc: 0.9651 - val_loss: 0.0921 - val_acc: 0.9753\n",
      "Epoch 4/10\n",
      "54000/54000 [==============================] - 137s - loss: 0.0934 - acc: 0.9721 - val_loss: 0.0912 - val_acc: 0.9725\n",
      "Epoch 5/10\n",
      "54000/54000 [==============================] - 137s - loss: 0.0752 - acc: 0.9775 - val_loss: 0.0637 - val_acc: 0.9818\n",
      "Epoch 6/10\n",
      "54000/54000 [==============================] - 136s - loss: 0.0648 - acc: 0.9802 - val_loss: 0.0657 - val_acc: 0.9828\n",
      "Epoch 7/10\n",
      "54000/54000 [==============================] - 136s - loss: 0.0551 - acc: 0.9831 - val_loss: 0.0668 - val_acc: 0.9790\n",
      "Epoch 8/10\n",
      "54000/54000 [==============================] - 137s - loss: 0.0508 - acc: 0.9847 - val_loss: 0.0528 - val_acc: 0.9842\n",
      "Epoch 9/10\n",
      "54000/54000 [==============================] - 137s - loss: 0.0452 - acc: 0.9857 - val_loss: 0.0535 - val_acc: 0.9845\n",
      "Epoch 10/10\n",
      "54000/54000 [==============================] - 135s - loss: 0.0421 - acc: 0.9865 - val_loss: 0.0608 - val_acc: 0.9827\n"
     ]
    }
   ],
   "source": [
    "hist=model.fit(\n",
    "    x=x_train,\n",
    "    y=y_train,\n",
    "    epochs=10,\n",
    "    batch_size=32,\n",
    "    validation_split=0.1,\n",
    ")"
   ]
  },
  {
   "cell_type": "code",
   "execution_count": 7,
   "metadata": {},
   "outputs": [
    {
     "data": {
      "text/plain": [
       "<matplotlib.text.Text at 0x141c7c908>"
      ]
     },
     "execution_count": 7,
     "metadata": {},
     "output_type": "execute_result"
    },
    {
     "data": {
      "image/png": "[encoded data removed]",
      "text/plain": [
       "<matplotlib.figure.Figure at 0x141ac8f98>"
      ]
     },
     "metadata": {},
     "output_type": "display_data"
    }
   ],
   "source": [
    "import matplotlib.pyplot as plt\n",
    "%matplotlib inline\n",
    "\n",
    "plt.plot(hist.epoch, hist.history['loss'], label='train_loss')\n",
    "plt.plot(hist.epoch, hist.history['val_loss'], label='val_loss')\n",
    "plt.legend()\n",
    "plt.xlabel('epoch')\n",
    "plt.ylabel('loss')"
   ]
  },
  {
   "cell_type": "code",
   "execution_count": 8,
   "metadata": {},
   "outputs": [
    {
     "data": {
      "text/plain": [
       "<matplotlib.text.Text at 0x141ff1f60>"
      ]
     },
     "execution_count": 8,
     "metadata": {},
     "output_type": "execute_result"
    },
    {
     "data": {
      "image/png": "[encoded data removed]",
      "text/plain": [
       "<matplotlib.figure.Figure at 0x141ac8c88>"
      ]
     },
     "metadata": {},
     "output_type": "display_data"
    }
   ],
   "source": [
    "plt.plot(hist.epoch, hist.history['acc'], label='train_acc')\n",
    "plt.plot(hist.epoch, hist.history['val_acc'], label='val_acc')\n",
    "plt.legend()\n",
    "plt.xlabel('epoch')\n",
    "plt.ylabel('lacc')"
   ]
  },
  {
   "cell_type": "code",
   "execution_count": 9,
   "metadata": {},
   "outputs": [
    {
     "name": "stdout",
     "output_type": "stream",
     "text": [
      " 9984/10000 [============================>.] - ETA: 0s"
     ]
    },
    {
     "data": {
      "text/plain": [
       "[0.069593206756375731, 0.98129999999999995]"
      ]
     },
     "execution_count": 9,
     "metadata": {},
     "output_type": "execute_result"
    }
   ],
   "source": [
    "model.evaluate(x=x_test, y=y_test)"
   ]
  },
  {
   "cell_type": "code",
   "execution_count": null,
   "metadata": {
    "collapsed": true
   },
   "outputs": [],
   "source": []
  }
 ],
 "metadata": {
  "kernelspec": {
   "display_name": "Python 3",
   "language": "python",
   "name": "python3"
  },
  "language_info": {
   "codemirror_mode": {
    "name": "ipython",
    "version": 3
   },
   "file_extension": ".py",
   "mimetype": "text/x-python",
   "name": "python",
   "nbconvert_exporter": "python",
   "pygments_lexer": "ipython3",
   "version": "3.6.2"
  }
 },
 "nbformat": 4,
 "nbformat_minor": 2
}
