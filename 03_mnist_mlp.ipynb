{
 "cells": [
  {
   "cell_type": "markdown",
   "metadata": {},
   "source": [
    "# 手書き数字認識問題を解く\n",
    "- 使用するデータはMNIST。\n",
    "- 隠れ層を１層入れたニューラルネットを使って、手書き数字認識をする。\n",
    "    - [入力] 手書き数字の画像データ\n",
    "    - [隠れ層] 500次元\n",
    "    - [出力] 数字ラベル"
   ]
  },
  {
   "cell_type": "markdown",
   "metadata": {},
   "source": [
    "# データ読み込み&ニューラルネット用に変換"
   ]
  },
  {
   "cell_type": "code",
   "execution_count": 1,
   "metadata": {
    "collapsed": true
   },
   "outputs": [],
   "source": [
    "import numpy as np\n",
    "\n",
    "f = np.load('mnist.npz')\n",
    "x_train = f['x_train']\n",
    "y_train = f['y_train']\n",
    "x_test = f['x_test']\n",
    "y_test = f['y_test']\n",
    "\n",
    "# 28✖️28ピクセルの画像を784次元ベクトルに変換　＆　[0,1]に正規化\n",
    "X_TRAIN = np.reshape(x_train, (60000, 784)) / 255.\n",
    "X_TEST = np.reshape(x_test, (10000, 784)) / 255.\n",
    "\n",
    "# one-hotベクトルに変換\n",
    "Y_TRAIN = np.eye(10)[y_train]\n",
    "Y_TEST = np.eye(10)[y_test]"
   ]
  },
  {
   "cell_type": "markdown",
   "metadata": {},
   "source": [
    "# Kerasを使ってニューラルネットを組む"
   ]
  },
  {
   "cell_type": "markdown",
   "metadata": {},
   "source": [
    "- __x__→__h__→__y__とする。\n",
    "- 中間層の出力にかける活性化関数はReLU (Rectified Linear Unit)にする。"
   ]
  },
  {
   "cell_type": "code",
   "execution_count": 2,
   "metadata": {},
   "outputs": [
    {
     "name": "stderr",
     "output_type": "stream",
     "text": [
      "Using TensorFlow backend.\n"
     ]
    }
   ],
   "source": [
    "from keras.layers import Input, Dense\n",
    "\n",
    "x = Input(shape=(784,))\n",
    "h = Dense(500, activation='relu')(x)\n",
    "y = Dense(10, activation='softmax')(h)"
   ]
  },
  {
   "cell_type": "code",
   "execution_count": 3,
   "metadata": {
    "collapsed": true
   },
   "outputs": [],
   "source": [
    "from keras.models import Model\n",
    "\n",
    "mlp = Model(inputs=x, outputs=y)"
   ]
  },
  {
   "cell_type": "code",
   "execution_count": 4,
   "metadata": {},
   "outputs": [
    {
     "name": "stdout",
     "output_type": "stream",
     "text": [
      "_________________________________________________________________\n",
      "Layer (type)                 Output Shape              Param #   \n",
      "=================================================================\n",
      "input_1 (InputLayer)         (None, 784)               0         \n",
      "_________________________________________________________________\n",
      "dense_1 (Dense)              (None, 500)               392500    \n",
      "_________________________________________________________________\n",
      "dense_2 (Dense)              (None, 10)                5010      \n",
      "=================================================================\n",
      "Total params: 397,510\n",
      "Trainable params: 397,510\n",
      "Non-trainable params: 0\n",
      "_________________________________________________________________\n"
     ]
    }
   ],
   "source": [
    "mlp.summary()"
   ]
  },
  {
   "cell_type": "markdown",
   "metadata": {},
   "source": [
    "## モデル構成を可視化\n",
    "- graphvizとpydotが必要。\n",
    "- condaを使ったインストール方法は、  \n",
    "(python2)  \n",
    "`conda install graphviz pydot`   \n",
    "(python3)  \n",
    "`conda install graphviz pydotplus` "
   ]
  },
  {
   "cell_type": "code",
   "execution_count": 5,
   "metadata": {},
   "outputs": [
    {
     "data": {
      "image/svg+xml": [
       "<svg height=\"191pt\" viewBox=\"0.00 0.00 136.36 191.00\" width=\"136pt\" xmlns=\"http://www.w3.org/2000/svg\" xmlns:xlink=\"http://www.w3.org/1999/xlink\">\n",
       "<g class=\"graph\" id=\"graph0\" transform=\"scale(1 1) rotate(0) translate(4 187)\">\n",
       "<title>G</title>\n",
       "<polygon fill=\"white\" points=\"-4,4 -4,-187 132.362,-187 132.362,4 -4,4\" stroke=\"none\"/>\n",
       "<!-- 4480975256 -->\n",
       "<g class=\"node\" id=\"node1\"><title>4480975256</title>\n",
       "<polygon fill=\"none\" points=\"0,-146.5 0,-182.5 128.362,-182.5 128.362,-146.5 0,-146.5\" stroke=\"black\"/>\n",
       "<text font-family=\"Times,serif\" font-size=\"14.00\" text-anchor=\"middle\" x=\"64.1812\" y=\"-160.3\">input_1: InputLayer</text>\n",
       "</g>\n",
       "<!-- 4480975144 -->\n",
       "<g class=\"node\" id=\"node2\"><title>4480975144</title>\n",
       "<polygon fill=\"none\" points=\"12.0552,-73.5 12.0552,-109.5 116.307,-109.5 116.307,-73.5 12.0552,-73.5\" stroke=\"black\"/>\n",
       "<text font-family=\"Times,serif\" font-size=\"14.00\" text-anchor=\"middle\" x=\"64.1812\" y=\"-87.3\">dense_1: Dense</text>\n",
       "</g>\n",
       "<!-- 4480975256&#45;&gt;4480975144 -->\n",
       "<g class=\"edge\" id=\"edge1\"><title>4480975256-&gt;4480975144</title>\n",
       "<path d=\"M64.1812,-146.313C64.1812,-138.289 64.1812,-128.547 64.1812,-119.569\" fill=\"none\" stroke=\"black\"/>\n",
       "<polygon fill=\"black\" points=\"67.6813,-119.529 64.1812,-109.529 60.6813,-119.529 67.6813,-119.529\" stroke=\"black\"/>\n",
       "</g>\n",
       "<!-- 4480975816 -->\n",
       "<g class=\"node\" id=\"node3\"><title>4480975816</title>\n",
       "<polygon fill=\"none\" points=\"12.0552,-0.5 12.0552,-36.5 116.307,-36.5 116.307,-0.5 12.0552,-0.5\" stroke=\"black\"/>\n",
       "<text font-family=\"Times,serif\" font-size=\"14.00\" text-anchor=\"middle\" x=\"64.1812\" y=\"-14.3\">dense_2: Dense</text>\n",
       "</g>\n",
       "<!-- 4480975144&#45;&gt;4480975816 -->\n",
       "<g class=\"edge\" id=\"edge2\"><title>4480975144-&gt;4480975816</title>\n",
       "<path d=\"M64.1812,-73.3129C64.1812,-65.2895 64.1812,-55.5475 64.1812,-46.5691\" fill=\"none\" stroke=\"black\"/>\n",
       "<polygon fill=\"black\" points=\"67.6813,-46.5288 64.1812,-36.5288 60.6813,-46.5289 67.6813,-46.5288\" stroke=\"black\"/>\n",
       "</g>\n",
       "</g>\n",
       "</svg>"
      ],
      "text/plain": [
       "<IPython.core.display.SVG object>"
      ]
     },
     "execution_count": 5,
     "metadata": {},
     "output_type": "execute_result"
    }
   ],
   "source": [
    "from IPython.display import SVG\n",
    "from keras.utils.vis_utils import model_to_dot\n",
    "\n",
    "SVG(model_to_dot(mlp).create(prog='dot', format='svg'))"
   ]
  },
  {
   "cell_type": "code",
   "execution_count": 7,
   "metadata": {},
   "outputs": [],
   "source": [
    "mlp.compile(\n",
    "    loss='categorical_crossentropy', \n",
    "    optimizer='adam',\n",
    "    metrics=['acc'],\n",
    ")"
   ]
  },
  {
   "cell_type": "markdown",
   "metadata": {},
   "source": [
    "# 訓練"
   ]
  },
  {
   "cell_type": "code",
   "execution_count": 8,
   "metadata": {
    "scrolled": true
   },
   "outputs": [
    {
     "name": "stdout",
     "output_type": "stream",
     "text": [
      "Train on 54000 samples, validate on 6000 samples\n",
      "Epoch 1/30\n",
      "54000/54000 [==============================] - 7s - loss: 0.2171 - acc: 0.9360 - val_loss: 0.1038 - val_acc: 0.9688\n",
      "Epoch 2/30\n",
      "54000/54000 [==============================] - 7s - loss: 0.0871 - acc: 0.9736 - val_loss: 0.0773 - val_acc: 0.9765\n",
      "Epoch 3/30\n",
      "54000/54000 [==============================] - 6s - loss: 0.0563 - acc: 0.9821 - val_loss: 0.0734 - val_acc: 0.9782\n",
      "Epoch 4/30\n",
      "54000/54000 [==============================] - 6s - loss: 0.0385 - acc: 0.9878 - val_loss: 0.0757 - val_acc: 0.9778\n",
      "Epoch 5/30\n",
      "54000/54000 [==============================] - 6s - loss: 0.0279 - acc: 0.9912 - val_loss: 0.0651 - val_acc: 0.9813\n",
      "Epoch 6/30\n",
      "54000/54000 [==============================] - 7s - loss: 0.0208 - acc: 0.9930 - val_loss: 0.0728 - val_acc: 0.9805\n",
      "Epoch 7/30\n",
      "54000/54000 [==============================] - 7s - loss: 0.0185 - acc: 0.9941 - val_loss: 0.0897 - val_acc: 0.9780\n",
      "Epoch 8/30\n",
      "54000/54000 [==============================] - 6s - loss: 0.0148 - acc: 0.9948 - val_loss: 0.0698 - val_acc: 0.9825\n",
      "Epoch 9/30\n",
      "54000/54000 [==============================] - 6s - loss: 0.0124 - acc: 0.9961 - val_loss: 0.0810 - val_acc: 0.9832\n",
      "Epoch 10/30\n",
      "54000/54000 [==============================] - 6s - loss: 0.0100 - acc: 0.9965 - val_loss: 0.0973 - val_acc: 0.9805\n",
      "Epoch 11/30\n",
      "54000/54000 [==============================] - 7s - loss: 0.0090 - acc: 0.9971 - val_loss: 0.0929 - val_acc: 0.9792\n",
      "Epoch 12/30\n",
      "54000/54000 [==============================] - 7s - loss: 0.0091 - acc: 0.9968 - val_loss: 0.0790 - val_acc: 0.9812\n",
      "Epoch 13/30\n",
      "54000/54000 [==============================] - 7s - loss: 0.0088 - acc: 0.9971 - val_loss: 0.0882 - val_acc: 0.9830\n",
      "Epoch 14/30\n",
      "54000/54000 [==============================] - 7s - loss: 0.0071 - acc: 0.9979 - val_loss: 0.1063 - val_acc: 0.9788\n",
      "Epoch 15/30\n",
      "54000/54000 [==============================] - 7s - loss: 0.0081 - acc: 0.9972 - val_loss: 0.0933 - val_acc: 0.9812\n",
      "Epoch 16/30\n",
      "54000/54000 [==============================] - 7s - loss: 0.0060 - acc: 0.9979 - val_loss: 0.1070 - val_acc: 0.9798\n",
      "Epoch 17/30\n",
      "54000/54000 [==============================] - 7s - loss: 0.0061 - acc: 0.9981 - val_loss: 0.0905 - val_acc: 0.9848\n",
      "Epoch 18/30\n",
      "54000/54000 [==============================] - 7s - loss: 0.0063 - acc: 0.9978 - val_loss: 0.1093 - val_acc: 0.9825\n",
      "Epoch 19/30\n",
      "54000/54000 [==============================] - 7s - loss: 0.0056 - acc: 0.9982 - val_loss: 0.1021 - val_acc: 0.9835\n",
      "Epoch 20/30\n",
      "54000/54000 [==============================] - 7s - loss: 0.0058 - acc: 0.9979 - val_loss: 0.1031 - val_acc: 0.9843\n",
      "Epoch 21/30\n",
      "54000/54000 [==============================] - 7s - loss: 0.0040 - acc: 0.9987 - val_loss: 0.1088 - val_acc: 0.9827\n",
      "Epoch 22/30\n",
      "54000/54000 [==============================] - 7s - loss: 0.0058 - acc: 0.9981 - val_loss: 0.1122 - val_acc: 0.9805\n",
      "Epoch 23/30\n",
      "54000/54000 [==============================] - 7s - loss: 0.0056 - acc: 0.9983 - val_loss: 0.1329 - val_acc: 0.9795\n",
      "Epoch 24/30\n",
      "54000/54000 [==============================] - 6s - loss: 0.0049 - acc: 0.9982 - val_loss: 0.1188 - val_acc: 0.9832\n",
      "Epoch 25/30\n",
      "54000/54000 [==============================] - 7s - loss: 0.0060 - acc: 0.9982 - val_loss: 0.1055 - val_acc: 0.9832\n",
      "Epoch 26/30\n",
      "54000/54000 [==============================] - 7s - loss: 0.0028 - acc: 0.9990 - val_loss: 0.1187 - val_acc: 0.9825\n",
      "Epoch 27/30\n",
      "54000/54000 [==============================] - 7s - loss: 0.0075 - acc: 0.9978 - val_loss: 0.1091 - val_acc: 0.9830\n",
      "Epoch 28/30\n",
      "54000/54000 [==============================] - 7s - loss: 0.0043 - acc: 0.9987 - val_loss: 0.1027 - val_acc: 0.9830\n",
      "Epoch 29/30\n",
      "54000/54000 [==============================] - 7s - loss: 0.0037 - acc: 0.9988 - val_loss: 0.1103 - val_acc: 0.9827\n",
      "Epoch 30/30\n",
      "54000/54000 [==============================] - 7s - loss: 0.0063 - acc: 0.9982 - val_loss: 0.1056 - val_acc: 0.9845\n"
     ]
    }
   ],
   "source": [
    "hist = mlp.fit(\n",
    "    x = X_TRAIN,\n",
    "    y = Y_TRAIN,\n",
    "    epochs=30,\n",
    "    validation_split=0.1,\n",
    ")"
   ]
  },
  {
   "cell_type": "markdown",
   "metadata": {},
   "source": [
    "# 訓練結果の確認"
   ]
  },
  {
   "cell_type": "code",
   "execution_count": 9,
   "metadata": {},
   "outputs": [
    {
     "data": {
      "text/plain": [
       "<matplotlib.text.Text at 0x13f1aada0>"
      ]
     },
     "execution_count": 9,
     "metadata": {},
     "output_type": "execute_result"
    },
    {
     "data": {
      "image/png": "[encoded data removed]",
      "text/plain": [
       "<matplotlib.figure.Figure at 0x13db72470>"
      ]
     },
     "metadata": {},
     "output_type": "display_data"
    }
   ],
   "source": [
    "import matplotlib.pyplot as plt\n",
    "%matplotlib inline\n",
    "\n",
    "plt.plot(hist.epoch, hist.history['loss'], label='train_loss')\n",
    "plt.plot(hist.epoch, hist.history['val_loss'], label='val_loss')\n",
    "plt.legend()\n",
    "plt.xlabel('epoch')\n",
    "plt.ylabel('loss')"
   ]
  },
  {
   "cell_type": "code",
   "execution_count": 10,
   "metadata": {},
   "outputs": [
    {
     "data": {
      "text/plain": [
       "<matplotlib.text.Text at 0x13f2a6630>"
      ]
     },
     "execution_count": 10,
     "metadata": {},
     "output_type": "execute_result"
    },
    {
     "data": {
      "image/png": "[encoded data removed]",
      "text/plain": [
       "<matplotlib.figure.Figure at 0x13db72240>"
      ]
     },
     "metadata": {},
     "output_type": "display_data"
    }
   ],
   "source": [
    "plt.plot(hist.epoch, hist.history['acc'], label='train_acc')\n",
    "plt.plot(hist.epoch, hist.history['val_acc'], label='val_acc')\n",
    "plt.legend()\n",
    "plt.xlabel('epoch')\n",
    "plt.ylabel('lacc')"
   ]
  },
  {
   "cell_type": "code",
   "execution_count": 11,
   "metadata": {},
   "outputs": [
    {
     "name": "stdout",
     "output_type": "stream",
     "text": [
      " 8960/10000 [=========================>....] - ETA: 0s"
     ]
    },
    {
     "data": {
      "text/plain": [
       "[0.120176409252216, 0.98170000000000002]"
      ]
     },
     "execution_count": 11,
     "metadata": {},
     "output_type": "execute_result"
    }
   ],
   "source": [
    "mlp.evaluate(x=X_TEST, y=Y_TEST)"
   ]
  },
  {
   "cell_type": "code",
   "execution_count": 13,
   "metadata": {},
   "outputs": [
    {
     "data": {
      "text/plain": [
       "<matplotlib.text.Text at 0x13f457f60>"
      ]
     },
     "execution_count": 13,
     "metadata": {},
     "output_type": "execute_result"
    },
    {
     "data": {
      "image/png": "[encoded data removed]",
      "text/plain": [
       "<matplotlib.figure.Figure at 0x13db47f60>"
      ]
     },
     "metadata": {},
     "output_type": "display_data"
    }
   ],
   "source": [
    "pred = mlp.predict(X_TEST).argmax(axis=1)\n",
    "\n",
    "plt.imshow(x_test[0])\n",
    "plt.title(str(pred[0]))"
   ]
  },
  {
   "cell_type": "code",
   "execution_count": null,
   "metadata": {
    "collapsed": true
   },
   "outputs": [],
   "source": []
  }
 ],
 "metadata": {
  "kernelspec": {
   "display_name": "Python 3",
   "language": "python",
   "name": "python3"
  },
  "language_info": {
   "codemirror_mode": {
    "name": "ipython",
    "version": 3
   },
   "file_extension": ".py",
   "mimetype": "text/x-python",
   "name": "python",
   "nbconvert_exporter": "python",
   "pygments_lexer": "ipython3",
   "version": "3.6.2"
  }
 },
 "nbformat": 4,
 "nbformat_minor": 2
}
