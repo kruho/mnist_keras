{
 "cells": [
  {
   "cell_type": "code",
   "execution_count": 1,
   "metadata": {
    "collapsed": true
   },
   "outputs": [],
   "source": [
    "import numpy as np\n",
    "\n",
    "f = np.load('mnist.npz')\n",
    "\n",
    "x_train = f['x_train']\n",
    "y_train = f['y_train']\n",
    "x_test = f['x_test']\n",
    "y_test = f['y_test']"
   ]
  },
  {
   "cell_type": "code",
   "execution_count": 2,
   "metadata": {
    "collapsed": true
   },
   "outputs": [],
   "source": [
    "X_TRAIN = np.reshape(x_train, (60000, 784)) / 255.\n",
    "X_TEST = np.reshape(x_test, (10000, 784)) / 255.\n",
    "Y_TRAIN = np.eye(10)[y_train]\n",
    "Y_TEST = np.eye(10)[y_test]"
   ]
  },
  {
   "cell_type": "code",
   "execution_count": 3,
   "metadata": {},
   "outputs": [
    {
     "name": "stderr",
     "output_type": "stream",
     "text": [
      "Using TensorFlow backend.\n"
     ]
    }
   ],
   "source": [
    "from keras.layers import Input, Dense\n",
    "from keras.models import Model\n",
    "\n",
    "x = Input(shape=(784,))\n",
    "y = Dense(10, activation='softmax')(x)\n",
    "\n",
    "neuralnet = Model(inputs=x, outputs=y)\n",
    "\n",
    "neuralnet.compile(\n",
    "    loss='categorical_crossentropy', \n",
    "    optimizer='adam',\n",
    "    metrics=['acc'],\n",
    ")"
   ]
  },
  {
   "cell_type": "code",
   "execution_count": 4,
   "metadata": {},
   "outputs": [
    {
     "name": "stdout",
     "output_type": "stream",
     "text": [
      "Train on 54000 samples, validate on 6000 samples\n",
      "Epoch 1/30\n",
      "54000/54000 [==============================] - 2s - loss: 0.4914 - acc: 0.8721 - val_loss: 0.2703 - val_acc: 0.9262\n",
      "Epoch 2/30\n",
      "54000/54000 [==============================] - 2s - loss: 0.3145 - acc: 0.9127 - val_loss: 0.2413 - val_acc: 0.9353\n",
      "Epoch 3/30\n",
      "54000/54000 [==============================] - 2s - loss: 0.2914 - acc: 0.9184 - val_loss: 0.2350 - val_acc: 0.9365\n",
      "Epoch 4/30\n",
      "54000/54000 [==============================] - 2s - loss: 0.2806 - acc: 0.9219 - val_loss: 0.2299 - val_acc: 0.9395\n",
      "Epoch 5/30\n",
      "54000/54000 [==============================] - 2s - loss: 0.2733 - acc: 0.9236 - val_loss: 0.2278 - val_acc: 0.9378\n",
      "Epoch 6/30\n",
      "54000/54000 [==============================] - 2s - loss: 0.2691 - acc: 0.9254 - val_loss: 0.2259 - val_acc: 0.9390\n",
      "Epoch 7/30\n",
      "54000/54000 [==============================] - 2s - loss: 0.2640 - acc: 0.9264 - val_loss: 0.2242 - val_acc: 0.9378\n",
      "Epoch 8/30\n",
      "54000/54000 [==============================] - 2s - loss: 0.2609 - acc: 0.9267 - val_loss: 0.2222 - val_acc: 0.9395\n",
      "Epoch 9/30\n",
      "54000/54000 [==============================] - 2s - loss: 0.2587 - acc: 0.9284 - val_loss: 0.2201 - val_acc: 0.9403\n",
      "Epoch 10/30\n",
      "54000/54000 [==============================] - 2s - loss: 0.2561 - acc: 0.9287 - val_loss: 0.2226 - val_acc: 0.9383\n",
      "Epoch 11/30\n",
      "54000/54000 [==============================] - 2s - loss: 0.2542 - acc: 0.9289 - val_loss: 0.2246 - val_acc: 0.9390\n",
      "Epoch 12/30\n",
      "54000/54000 [==============================] - 2s - loss: 0.2521 - acc: 0.9294 - val_loss: 0.2209 - val_acc: 0.9398\n",
      "Epoch 13/30\n",
      "54000/54000 [==============================] - 2s - loss: 0.2511 - acc: 0.9304 - val_loss: 0.2253 - val_acc: 0.9387\n",
      "Epoch 14/30\n",
      "54000/54000 [==============================] - 2s - loss: 0.2494 - acc: 0.9303 - val_loss: 0.2220 - val_acc: 0.9402\n",
      "Epoch 15/30\n",
      "54000/54000 [==============================] - 2s - loss: 0.2481 - acc: 0.9309 - val_loss: 0.2245 - val_acc: 0.9395\n",
      "Epoch 16/30\n",
      "54000/54000 [==============================] - 2s - loss: 0.2472 - acc: 0.9313 - val_loss: 0.2249 - val_acc: 0.9383\n",
      "Epoch 17/30\n",
      "54000/54000 [==============================] - 2s - loss: 0.2462 - acc: 0.9317 - val_loss: 0.2200 - val_acc: 0.9410\n",
      "Epoch 18/30\n",
      "54000/54000 [==============================] - 2s - loss: 0.2450 - acc: 0.9317 - val_loss: 0.2270 - val_acc: 0.9373\n",
      "Epoch 19/30\n",
      "54000/54000 [==============================] - 2s - loss: 0.2440 - acc: 0.9330 - val_loss: 0.2235 - val_acc: 0.9383\n",
      "Epoch 20/30\n",
      "54000/54000 [==============================] - 2s - loss: 0.2435 - acc: 0.9318 - val_loss: 0.2232 - val_acc: 0.9397\n",
      "Epoch 21/30\n",
      "54000/54000 [==============================] - 2s - loss: 0.2419 - acc: 0.9331 - val_loss: 0.2247 - val_acc: 0.9383\n",
      "Epoch 22/30\n",
      "54000/54000 [==============================] - 2s - loss: 0.2419 - acc: 0.9329 - val_loss: 0.2223 - val_acc: 0.9382\n",
      "Epoch 23/30\n",
      "54000/54000 [==============================] - 2s - loss: 0.2411 - acc: 0.9334 - val_loss: 0.2249 - val_acc: 0.9395\n",
      "Epoch 24/30\n",
      "54000/54000 [==============================] - 2s - loss: 0.2407 - acc: 0.9336 - val_loss: 0.2258 - val_acc: 0.9407\n",
      "Epoch 25/30\n",
      "54000/54000 [==============================] - 2s - loss: 0.2395 - acc: 0.9327 - val_loss: 0.2237 - val_acc: 0.9380\n",
      "Epoch 26/30\n",
      "54000/54000 [==============================] - 2s - loss: 0.2393 - acc: 0.9329 - val_loss: 0.2288 - val_acc: 0.9387\n",
      "Epoch 27/30\n",
      "54000/54000 [==============================] - 2s - loss: 0.2386 - acc: 0.9346 - val_loss: 0.2280 - val_acc: 0.9380\n",
      "Epoch 28/30\n",
      "54000/54000 [==============================] - 2s - loss: 0.2384 - acc: 0.9335 - val_loss: 0.2276 - val_acc: 0.9377\n",
      "Epoch 29/30\n",
      "54000/54000 [==============================] - 2s - loss: 0.2372 - acc: 0.9341 - val_loss: 0.2263 - val_acc: 0.9385\n",
      "Epoch 30/30\n",
      "54000/54000 [==============================] - 2s - loss: 0.2368 - acc: 0.9346 - val_loss: 0.2279 - val_acc: 0.9393\n"
     ]
    }
   ],
   "source": [
    "hist = neuralnet.fit(\n",
    "    x = X_TRAIN,\n",
    "    y = Y_TRAIN,\n",
    "    epochs=30,\n",
    "    validation_split=0.1,\n",
    ")"
   ]
  },
  {
   "cell_type": "code",
   "execution_count": 6,
   "metadata": {
    "collapsed": true
   },
   "outputs": [],
   "source": [
    "import matplotlib.pyplot as plt\n",
    "%matplotlib inline"
   ]
  },
  {
   "cell_type": "code",
   "execution_count": 7,
   "metadata": {},
   "outputs": [
    {
     "data": {
      "text/plain": [
       "<matplotlib.text.Text at 0x13dc66a20>"
      ]
     },
     "execution_count": 7,
     "metadata": {},
     "output_type": "execute_result"
    },
    {
     "data": {
      "image/png": "[encoded data removed]",
      "text/plain": [
       "<matplotlib.figure.Figure at 0x13dbef128>"
      ]
     },
     "metadata": {},
     "output_type": "display_data"
    }
   ],
   "source": [
    "plt.plot(hist.epoch, hist.history['loss'], label='train_loss')\n",
    "plt.plot(hist.epoch, hist.history['val_loss'], label='val_loss')\n",
    "plt.legend()\n",
    "plt.xlabel('epoch')\n",
    "plt.ylabel('loss')"
   ]
  },
  {
   "cell_type": "code",
   "execution_count": 8,
   "metadata": {},
   "outputs": [
    {
     "data": {
      "text/plain": [
       "<matplotlib.text.Text at 0x13dd84a20>"
      ]
     },
     "execution_count": 8,
     "metadata": {},
     "output_type": "execute_result"
    },
    {
     "data": {
      "image/png": "[encoded data removed]",
      "text/plain": [
       "<matplotlib.figure.Figure at 0x13dc7c240>"
      ]
     },
     "metadata": {},
     "output_type": "display_data"
    }
   ],
   "source": [
    "plt.plot(hist.epoch, hist.history['acc'], label='train_acc')\n",
    "plt.plot(hist.epoch, hist.history['val_acc'], label='val_acc')\n",
    "plt.legend()\n",
    "plt.xlabel('epoch')\n",
    "plt.ylabel('lacc')"
   ]
  },
  {
   "cell_type": "code",
   "execution_count": 9,
   "metadata": {},
   "outputs": [
    {
     "name": "stdout",
     "output_type": "stream",
     "text": [
      " 7680/10000 [======================>.......] - ETA: 0s"
     ]
    },
    {
     "data": {
      "text/plain": [
       "[0.27351756581664083, 0.9274]"
      ]
     },
     "execution_count": 9,
     "metadata": {},
     "output_type": "execute_result"
    }
   ],
   "source": [
    "neuralnet.evaluate(x=X_TEST, y=Y_TEST)"
   ]
  },
  {
   "cell_type": "code",
   "execution_count": null,
   "metadata": {
    "collapsed": true
   },
   "outputs": [],
   "source": []
  }
 ],
 "metadata": {
  "kernelspec": {
   "display_name": "Python 3",
   "language": "python",
   "name": "python3"
  },
  "language_info": {
   "codemirror_mode": {
    "name": "ipython",
    "version": 3
   },
   "file_extension": ".py",
   "mimetype": "text/x-python",
   "name": "python",
   "nbconvert_exporter": "python",
   "pygments_lexer": "ipython3",
   "version": "3.6.2"
  }
 },
 "nbformat": 4,
 "nbformat_minor": 2
}
