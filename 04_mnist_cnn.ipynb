{
 "cells": [
  {
   "cell_type": "markdown",
   "metadata": {},
   "source": [
    "# 手書き数字認識問題を解く\n",
    "- 使用するデータはMNIST。\n",
    "- 畳み込み層２層＋全結合層２層のニューラルネットを使って、手書き数字認識をする。\n",
    "- 畳み込み層のあるニューラルネットを畳み込みニューラルネット（CNN; convolutional neural networks）と呼ぶ。"
   ]
  },
  {
   "cell_type": "markdown",
   "metadata": {},
   "source": [
    "# データ読み込み&ニューラルネット用に変換\n",
    "- CNNを使う場合は一行のベクトルに変換する必要はない。\n",
    "    - MNISTは28x28ピクセルなので、28x28x1の行列にしておく。最後の１は色の分で、MNISTは白黒なので１チャンネル。\n",
    "    - もしCIFAR-10などのカラー画像のデータを使うなら、最後の１は３にしておく（RGBで３チャンネル）。"
   ]
  },
  {
   "cell_type": "code",
   "execution_count": 1,
   "metadata": {
    "collapsed": true
   },
   "outputs": [],
   "source": [
    "import numpy as np\n",
    "\n",
    "f = np.load('mnist.npz')\n",
    "x_train = f['x_train']\n",
    "y_train = f['y_train']\n",
    "x_test = f['x_test']\n",
    "y_test = f['y_test']\n",
    "\n",
    "# 28✖️28ピクセルの画像を784次元ベクトルに変換　＆　[0,1]に正規化\n",
    "X_TRAIN = np.reshape(x_train, (60000, 28, 28, 1)) / 255.\n",
    "X_TEST = np.reshape(x_test, (10000, 28, 28, 1)) / 255.\n",
    "\n",
    "# one-hotベクトルに変換\n",
    "Y_TRAIN = np.eye(10)[y_train]\n",
    "Y_TEST = np.eye(10)[y_test]"
   ]
  },
  {
   "cell_type": "markdown",
   "metadata": {},
   "source": [
    "# Kerasを使ってCNNを組む"
   ]
  },
  {
   "cell_type": "markdown",
   "metadata": {},
   "source": [
    "- 中間層の出力にかける活性化関数はReLU (Rectified Linear Unit)にする。\n",
    "- 畳み込み層(Conv2D)から全結合層(Dense)に移るときは、Flattenを使って一行のベクトルに平坦化する。\n",
    "- いくつかConv2Dを通してからDenseを2回だけ掛けるのが多かった（~2015年あたりまで）。"
   ]
  },
  {
   "cell_type": "code",
   "execution_count": 2,
   "metadata": {},
   "outputs": [
    {
     "name": "stderr",
     "output_type": "stream",
     "text": [
      "Using TensorFlow backend.\n"
     ]
    }
   ],
   "source": [
    "from keras.layers import Input, Conv2D, Flatten, Dense\n",
    "\n",
    "x = Input(shape=(28,28,1))\n",
    "h = Conv2D(filters=16, kernel_size=(3,3), padding='same', activation='relu')(x)\n",
    "h = Conv2D(filters=16, kernel_size=(3,3), padding='same', activation='relu')(h)\n",
    "h = Flatten()(h)\n",
    "h = Dense(32, activation='relu')(h)\n",
    "h = Dense(32, activation='relu')(h)\n",
    "y = Dense(10, activation='softmax')(h)"
   ]
  },
  {
   "cell_type": "code",
   "execution_count": 3,
   "metadata": {
    "collapsed": true
   },
   "outputs": [],
   "source": [
    "from keras.models import Model\n",
    "\n",
    "cnn = Model(inputs=x, outputs=y)"
   ]
  },
  {
   "cell_type": "code",
   "execution_count": 4,
   "metadata": {},
   "outputs": [
    {
     "name": "stdout",
     "output_type": "stream",
     "text": [
      "_________________________________________________________________\n",
      "Layer (type)                 Output Shape              Param #   \n",
      "=================================================================\n",
      "input_1 (InputLayer)         (None, 28, 28, 1)         0         \n",
      "_________________________________________________________________\n",
      "conv2d_1 (Conv2D)            (None, 28, 28, 16)        160       \n",
      "_________________________________________________________________\n",
      "conv2d_2 (Conv2D)            (None, 28, 28, 16)        2320      \n",
      "_________________________________________________________________\n",
      "flatten_1 (Flatten)          (None, 12544)             0         \n",
      "_________________________________________________________________\n",
      "dense_1 (Dense)              (None, 32)                401440    \n",
      "_________________________________________________________________\n",
      "dense_2 (Dense)              (None, 32)                1056      \n",
      "_________________________________________________________________\n",
      "dense_3 (Dense)              (None, 10)                330       \n",
      "=================================================================\n",
      "Total params: 405,306\n",
      "Trainable params: 405,306\n",
      "Non-trainable params: 0\n",
      "_________________________________________________________________\n"
     ]
    }
   ],
   "source": [
    "cnn.summary()"
   ]
  },
  {
   "cell_type": "markdown",
   "metadata": {},
   "source": [
    "## モデル構成を可視化\n",
    "- graphvizとpydotが必要。\n",
    "- condaを使ったインストール方法は、  \n",
    "(python2)  \n",
    "`conda install graphviz pydot`   \n",
    "(python3)  \n",
    "`conda install graphviz pydotplus` "
   ]
  },
  {
   "cell_type": "code",
   "execution_count": 5,
   "metadata": {},
   "outputs": [
    {
     "data": {
      "image/svg+xml": [
       "<svg height=\"539pt\" viewBox=\"0.00 0.00 308.37 539.00\" width=\"308pt\" xmlns=\"http://www.w3.org/2000/svg\" xmlns:xlink=\"http://www.w3.org/1999/xlink\">\n",
       "<g class=\"graph\" id=\"graph0\" transform=\"scale(1 1) rotate(0) translate(4 535)\">\n",
       "<title>G</title>\n",
       "<polygon fill=\"white\" points=\"-4,4 -4,-535 304.369,-535 304.369,4 -4,4\" stroke=\"none\"/>\n",
       "<!-- 4426964384 -->\n",
       "<g class=\"node\" id=\"node1\"><title>4426964384</title>\n",
       "<polygon fill=\"none\" points=\"2.34473,-486.5 2.34473,-530.5 298.024,-530.5 298.024,-486.5 2.34473,-486.5\" stroke=\"black\"/>\n",
       "<text font-family=\"Times,serif\" font-size=\"14.00\" text-anchor=\"middle\" x=\"66.5259\" y=\"-504.3\">input_1: InputLayer</text>\n",
       "<polyline fill=\"none\" points=\"130.707,-486.5 130.707,-530.5 \" stroke=\"black\"/>\n",
       "<text font-family=\"Times,serif\" font-size=\"14.00\" text-anchor=\"middle\" x=\"158.542\" y=\"-515.3\">input:</text>\n",
       "<polyline fill=\"none\" points=\"130.707,-508.5 186.376,-508.5 \" stroke=\"black\"/>\n",
       "<text font-family=\"Times,serif\" font-size=\"14.00\" text-anchor=\"middle\" x=\"158.542\" y=\"-493.3\">output:</text>\n",
       "<polyline fill=\"none\" points=\"186.376,-486.5 186.376,-530.5 \" stroke=\"black\"/>\n",
       "<text font-family=\"Times,serif\" font-size=\"14.00\" text-anchor=\"middle\" x=\"242.2\" y=\"-515.3\">(None, 28, 28, 1)</text>\n",
       "<polyline fill=\"none\" points=\"186.376,-508.5 298.024,-508.5 \" stroke=\"black\"/>\n",
       "<text font-family=\"Times,serif\" font-size=\"14.00\" text-anchor=\"middle\" x=\"242.2\" y=\"-493.3\">(None, 28, 28, 1)</text>\n",
       "</g>\n",
       "<!-- 4426964664 -->\n",
       "<g class=\"node\" id=\"node2\"><title>4426964664</title>\n",
       "<polygon fill=\"none\" points=\"0,-405.5 0,-449.5 300.369,-449.5 300.369,-405.5 0,-405.5\" stroke=\"black\"/>\n",
       "<text font-family=\"Times,serif\" font-size=\"14.00\" text-anchor=\"middle\" x=\"63.0259\" y=\"-423.3\">conv2d_1: Conv2D</text>\n",
       "<polyline fill=\"none\" points=\"126.052,-405.5 126.052,-449.5 \" stroke=\"black\"/>\n",
       "<text font-family=\"Times,serif\" font-size=\"14.00\" text-anchor=\"middle\" x=\"153.886\" y=\"-434.3\">input:</text>\n",
       "<polyline fill=\"none\" points=\"126.052,-427.5 181.721,-427.5 \" stroke=\"black\"/>\n",
       "<text font-family=\"Times,serif\" font-size=\"14.00\" text-anchor=\"middle\" x=\"153.886\" y=\"-412.3\">output:</text>\n",
       "<polyline fill=\"none\" points=\"181.721,-405.5 181.721,-449.5 \" stroke=\"black\"/>\n",
       "<text font-family=\"Times,serif\" font-size=\"14.00\" text-anchor=\"middle\" x=\"241.045\" y=\"-434.3\">(None, 28, 28, 1)</text>\n",
       "<polyline fill=\"none\" points=\"181.721,-427.5 300.369,-427.5 \" stroke=\"black\"/>\n",
       "<text font-family=\"Times,serif\" font-size=\"14.00\" text-anchor=\"middle\" x=\"241.045\" y=\"-412.3\">(None, 28, 28, 16)</text>\n",
       "</g>\n",
       "<!-- 4426964384&#45;&gt;4426964664 -->\n",
       "<g class=\"edge\" id=\"edge1\"><title>4426964384-&gt;4426964664</title>\n",
       "<path d=\"M150.185,-486.329C150.185,-478.183 150.185,-468.699 150.185,-459.797\" fill=\"none\" stroke=\"black\"/>\n",
       "<polygon fill=\"black\" points=\"153.685,-459.729 150.185,-449.729 146.685,-459.729 153.685,-459.729\" stroke=\"black\"/>\n",
       "</g>\n",
       "<!-- 5190705048 -->\n",
       "<g class=\"node\" id=\"node3\"><title>5190705048</title>\n",
       "<polygon fill=\"none\" points=\"0,-324.5 0,-368.5 300.369,-368.5 300.369,-324.5 0,-324.5\" stroke=\"black\"/>\n",
       "<text font-family=\"Times,serif\" font-size=\"14.00\" text-anchor=\"middle\" x=\"63.0259\" y=\"-342.3\">conv2d_2: Conv2D</text>\n",
       "<polyline fill=\"none\" points=\"126.052,-324.5 126.052,-368.5 \" stroke=\"black\"/>\n",
       "<text font-family=\"Times,serif\" font-size=\"14.00\" text-anchor=\"middle\" x=\"153.886\" y=\"-353.3\">input:</text>\n",
       "<polyline fill=\"none\" points=\"126.052,-346.5 181.721,-346.5 \" stroke=\"black\"/>\n",
       "<text font-family=\"Times,serif\" font-size=\"14.00\" text-anchor=\"middle\" x=\"153.886\" y=\"-331.3\">output:</text>\n",
       "<polyline fill=\"none\" points=\"181.721,-324.5 181.721,-368.5 \" stroke=\"black\"/>\n",
       "<text font-family=\"Times,serif\" font-size=\"14.00\" text-anchor=\"middle\" x=\"241.045\" y=\"-353.3\">(None, 28, 28, 16)</text>\n",
       "<polyline fill=\"none\" points=\"181.721,-346.5 300.369,-346.5 \" stroke=\"black\"/>\n",
       "<text font-family=\"Times,serif\" font-size=\"14.00\" text-anchor=\"middle\" x=\"241.045\" y=\"-331.3\">(None, 28, 28, 16)</text>\n",
       "</g>\n",
       "<!-- 4426964664&#45;&gt;5190705048 -->\n",
       "<g class=\"edge\" id=\"edge2\"><title>4426964664-&gt;5190705048</title>\n",
       "<path d=\"M150.185,-405.329C150.185,-397.183 150.185,-387.699 150.185,-378.797\" fill=\"none\" stroke=\"black\"/>\n",
       "<polygon fill=\"black\" points=\"153.685,-378.729 150.185,-368.729 146.685,-378.729 153.685,-378.729\" stroke=\"black\"/>\n",
       "</g>\n",
       "<!-- 4426964776 -->\n",
       "<g class=\"node\" id=\"node4\"><title>4426964776</title>\n",
       "<polygon fill=\"none\" points=\"7.39307,-243.5 7.39307,-287.5 292.976,-287.5 292.976,-243.5 7.39307,-243.5\" stroke=\"black\"/>\n",
       "<text font-family=\"Times,serif\" font-size=\"14.00\" text-anchor=\"middle\" x=\"63.0259\" y=\"-261.3\">flatten_1: Flatten</text>\n",
       "<polyline fill=\"none\" points=\"118.659,-243.5 118.659,-287.5 \" stroke=\"black\"/>\n",
       "<text font-family=\"Times,serif\" font-size=\"14.00\" text-anchor=\"middle\" x=\"146.493\" y=\"-272.3\">input:</text>\n",
       "<polyline fill=\"none\" points=\"118.659,-265.5 174.328,-265.5 \" stroke=\"black\"/>\n",
       "<text font-family=\"Times,serif\" font-size=\"14.00\" text-anchor=\"middle\" x=\"146.493\" y=\"-250.3\">output:</text>\n",
       "<polyline fill=\"none\" points=\"174.328,-243.5 174.328,-287.5 \" stroke=\"black\"/>\n",
       "<text font-family=\"Times,serif\" font-size=\"14.00\" text-anchor=\"middle\" x=\"233.652\" y=\"-272.3\">(None, 28, 28, 16)</text>\n",
       "<polyline fill=\"none\" points=\"174.328,-265.5 292.976,-265.5 \" stroke=\"black\"/>\n",
       "<text font-family=\"Times,serif\" font-size=\"14.00\" text-anchor=\"middle\" x=\"233.652\" y=\"-250.3\">(None, 12544)</text>\n",
       "</g>\n",
       "<!-- 5190705048&#45;&gt;4426964776 -->\n",
       "<g class=\"edge\" id=\"edge3\"><title>5190705048-&gt;4426964776</title>\n",
       "<path d=\"M150.185,-324.329C150.185,-316.183 150.185,-306.699 150.185,-297.797\" fill=\"none\" stroke=\"black\"/>\n",
       "<polygon fill=\"black\" points=\"153.685,-297.729 150.185,-287.729 146.685,-297.729 153.685,-297.729\" stroke=\"black\"/>\n",
       "</g>\n",
       "<!-- 5261962544 -->\n",
       "<g class=\"node\" id=\"node5\"><title>5261962544</title>\n",
       "<polygon fill=\"none\" points=\"21.3999,-162.5 21.3999,-206.5 278.969,-206.5 278.969,-162.5 21.3999,-162.5\" stroke=\"black\"/>\n",
       "<text font-family=\"Times,serif\" font-size=\"14.00\" text-anchor=\"middle\" x=\"73.5259\" y=\"-180.3\">dense_1: Dense</text>\n",
       "<polyline fill=\"none\" points=\"125.652,-162.5 125.652,-206.5 \" stroke=\"black\"/>\n",
       "<text font-family=\"Times,serif\" font-size=\"14.00\" text-anchor=\"middle\" x=\"153.486\" y=\"-191.3\">input:</text>\n",
       "<polyline fill=\"none\" points=\"125.652,-184.5 181.321,-184.5 \" stroke=\"black\"/>\n",
       "<text font-family=\"Times,serif\" font-size=\"14.00\" text-anchor=\"middle\" x=\"153.486\" y=\"-169.3\">output:</text>\n",
       "<polyline fill=\"none\" points=\"181.321,-162.5 181.321,-206.5 \" stroke=\"black\"/>\n",
       "<text font-family=\"Times,serif\" font-size=\"14.00\" text-anchor=\"middle\" x=\"230.145\" y=\"-191.3\">(None, 12544)</text>\n",
       "<polyline fill=\"none\" points=\"181.321,-184.5 278.969,-184.5 \" stroke=\"black\"/>\n",
       "<text font-family=\"Times,serif\" font-size=\"14.00\" text-anchor=\"middle\" x=\"230.145\" y=\"-169.3\">(None, 32)</text>\n",
       "</g>\n",
       "<!-- 4426964776&#45;&gt;5261962544 -->\n",
       "<g class=\"edge\" id=\"edge4\"><title>4426964776-&gt;5261962544</title>\n",
       "<path d=\"M150.185,-243.329C150.185,-235.183 150.185,-225.699 150.185,-216.797\" fill=\"none\" stroke=\"black\"/>\n",
       "<polygon fill=\"black\" points=\"153.685,-216.729 150.185,-206.729 146.685,-216.729 153.685,-216.729\" stroke=\"black\"/>\n",
       "</g>\n",
       "<!-- 5262031112 -->\n",
       "<g class=\"node\" id=\"node6\"><title>5262031112</title>\n",
       "<polygon fill=\"none\" points=\"31.8999,-81.5 31.8999,-125.5 268.469,-125.5 268.469,-81.5 31.8999,-81.5\" stroke=\"black\"/>\n",
       "<text font-family=\"Times,serif\" font-size=\"14.00\" text-anchor=\"middle\" x=\"84.0259\" y=\"-99.3\">dense_2: Dense</text>\n",
       "<polyline fill=\"none\" points=\"136.152,-81.5 136.152,-125.5 \" stroke=\"black\"/>\n",
       "<text font-family=\"Times,serif\" font-size=\"14.00\" text-anchor=\"middle\" x=\"163.986\" y=\"-110.3\">input:</text>\n",
       "<polyline fill=\"none\" points=\"136.152,-103.5 191.821,-103.5 \" stroke=\"black\"/>\n",
       "<text font-family=\"Times,serif\" font-size=\"14.00\" text-anchor=\"middle\" x=\"163.986\" y=\"-88.3\">output:</text>\n",
       "<polyline fill=\"none\" points=\"191.821,-81.5 191.821,-125.5 \" stroke=\"black\"/>\n",
       "<text font-family=\"Times,serif\" font-size=\"14.00\" text-anchor=\"middle\" x=\"230.145\" y=\"-110.3\">(None, 32)</text>\n",
       "<polyline fill=\"none\" points=\"191.821,-103.5 268.469,-103.5 \" stroke=\"black\"/>\n",
       "<text font-family=\"Times,serif\" font-size=\"14.00\" text-anchor=\"middle\" x=\"230.145\" y=\"-88.3\">(None, 32)</text>\n",
       "</g>\n",
       "<!-- 5261962544&#45;&gt;5262031112 -->\n",
       "<g class=\"edge\" id=\"edge5\"><title>5261962544-&gt;5262031112</title>\n",
       "<path d=\"M150.185,-162.329C150.185,-154.183 150.185,-144.699 150.185,-135.797\" fill=\"none\" stroke=\"black\"/>\n",
       "<polygon fill=\"black\" points=\"153.685,-135.729 150.185,-125.729 146.685,-135.729 153.685,-135.729\" stroke=\"black\"/>\n",
       "</g>\n",
       "<!-- 5262289888 -->\n",
       "<g class=\"node\" id=\"node7\"><title>5262289888</title>\n",
       "<polygon fill=\"none\" points=\"31.8999,-0.5 31.8999,-44.5 268.469,-44.5 268.469,-0.5 31.8999,-0.5\" stroke=\"black\"/>\n",
       "<text font-family=\"Times,serif\" font-size=\"14.00\" text-anchor=\"middle\" x=\"84.0259\" y=\"-18.3\">dense_3: Dense</text>\n",
       "<polyline fill=\"none\" points=\"136.152,-0.5 136.152,-44.5 \" stroke=\"black\"/>\n",
       "<text font-family=\"Times,serif\" font-size=\"14.00\" text-anchor=\"middle\" x=\"163.986\" y=\"-29.3\">input:</text>\n",
       "<polyline fill=\"none\" points=\"136.152,-22.5 191.821,-22.5 \" stroke=\"black\"/>\n",
       "<text font-family=\"Times,serif\" font-size=\"14.00\" text-anchor=\"middle\" x=\"163.986\" y=\"-7.3\">output:</text>\n",
       "<polyline fill=\"none\" points=\"191.821,-0.5 191.821,-44.5 \" stroke=\"black\"/>\n",
       "<text font-family=\"Times,serif\" font-size=\"14.00\" text-anchor=\"middle\" x=\"230.145\" y=\"-29.3\">(None, 32)</text>\n",
       "<polyline fill=\"none\" points=\"191.821,-22.5 268.469,-22.5 \" stroke=\"black\"/>\n",
       "<text font-family=\"Times,serif\" font-size=\"14.00\" text-anchor=\"middle\" x=\"230.145\" y=\"-7.3\">(None, 10)</text>\n",
       "</g>\n",
       "<!-- 5262031112&#45;&gt;5262289888 -->\n",
       "<g class=\"edge\" id=\"edge6\"><title>5262031112-&gt;5262289888</title>\n",
       "<path d=\"M150.185,-81.3294C150.185,-73.1826 150.185,-63.6991 150.185,-54.7971\" fill=\"none\" stroke=\"black\"/>\n",
       "<polygon fill=\"black\" points=\"153.685,-54.729 150.185,-44.729 146.685,-54.729 153.685,-54.729\" stroke=\"black\"/>\n",
       "</g>\n",
       "</g>\n",
       "</svg>"
      ],
      "text/plain": [
       "<IPython.core.display.SVG object>"
      ]
     },
     "execution_count": 5,
     "metadata": {},
     "output_type": "execute_result"
    }
   ],
   "source": [
    "from IPython.display import SVG\n",
    "from keras.utils.vis_utils import model_to_dot\n",
    "\n",
    "SVG(model_to_dot(cnn, show_shapes=True).create(prog='dot', format='svg'))"
   ]
  },
  {
   "cell_type": "code",
   "execution_count": 6,
   "metadata": {
    "collapsed": true
   },
   "outputs": [],
   "source": [
    "cnn.compile(\n",
    "    loss='categorical_crossentropy', \n",
    "    optimizer='adam',\n",
    "    metrics=['acc'],\n",
    ")"
   ]
  },
  {
   "cell_type": "markdown",
   "metadata": {},
   "source": [
    "# 訓練"
   ]
  },
  {
   "cell_type": "code",
   "execution_count": 7,
   "metadata": {
    "scrolled": true
   },
   "outputs": [
    {
     "name": "stdout",
     "output_type": "stream",
     "text": [
      "Train on 54000 samples, validate on 6000 samples\n",
      "Epoch 1/5\n",
      "54000/54000 [==============================] - 69s - loss: 0.1859 - acc: 0.9435 - val_loss: 0.0766 - val_acc: 0.9798\n",
      "Epoch 2/5\n",
      "54000/54000 [==============================] - 72s - loss: 0.0650 - acc: 0.9799 - val_loss: 0.0582 - val_acc: 0.9835\n",
      "Epoch 3/5\n",
      "54000/54000 [==============================] - 68s - loss: 0.0417 - acc: 0.9868 - val_loss: 0.0739 - val_acc: 0.9817\n",
      "Epoch 4/5\n",
      "54000/54000 [==============================] - 69s - loss: 0.0313 - acc: 0.9897 - val_loss: 0.0536 - val_acc: 0.9855\n",
      "Epoch 5/5\n",
      "54000/54000 [==============================] - 69s - loss: 0.0226 - acc: 0.9925 - val_loss: 0.0566 - val_acc: 0.9863\n"
     ]
    }
   ],
   "source": [
    "hist = cnn.fit(\n",
    "    x = X_TRAIN,\n",
    "    y = Y_TRAIN,\n",
    "    epochs=5,\n",
    "    validation_split=0.1,\n",
    ")"
   ]
  },
  {
   "cell_type": "markdown",
   "metadata": {},
   "source": [
    "# 訓練結果の確認"
   ]
  },
  {
   "cell_type": "code",
   "execution_count": 8,
   "metadata": {},
   "outputs": [
    {
     "data": {
      "text/plain": [
       "<matplotlib.text.Text at 0x13c4516a0>"
      ]
     },
     "execution_count": 8,
     "metadata": {},
     "output_type": "execute_result"
    },
    {
     "data": {
      "image/png": "[encoded data removed]",
      "text/plain": [
       "<matplotlib.figure.Figure at 0x13a2addd8>"
      ]
     },
     "metadata": {},
     "output_type": "display_data"
    }
   ],
   "source": [
    "import matplotlib.pyplot as plt\n",
    "%matplotlib inline\n",
    "\n",
    "plt.plot(hist.epoch, hist.history['loss'], label='train_loss')\n",
    "plt.plot(hist.epoch, hist.history['val_loss'], label='val_loss')\n",
    "plt.legend()\n",
    "plt.xlabel('epoch')\n",
    "plt.ylabel('loss')"
   ]
  },
  {
   "cell_type": "code",
   "execution_count": 9,
   "metadata": {},
   "outputs": [
    {
     "data": {
      "text/plain": [
       "<matplotlib.text.Text at 0x13c56b320>"
      ]
     },
     "execution_count": 9,
     "metadata": {},
     "output_type": "execute_result"
    },
    {
     "data": {
      "image/png": "[encoded data removed]",
      "text/plain": [
       "<matplotlib.figure.Figure at 0x13a2ada90>"
      ]
     },
     "metadata": {},
     "output_type": "display_data"
    }
   ],
   "source": [
    "plt.plot(hist.epoch, hist.history['acc'], label='train_acc')\n",
    "plt.plot(hist.epoch, hist.history['val_acc'], label='val_acc')\n",
    "plt.legend()\n",
    "plt.xlabel('epoch')\n",
    "plt.ylabel('lacc')"
   ]
  },
  {
   "cell_type": "code",
   "execution_count": 10,
   "metadata": {},
   "outputs": [
    {
     "name": "stdout",
     "output_type": "stream",
     "text": [
      " 9952/10000 [============================>.] - ETA: 0s"
     ]
    },
    {
     "data": {
      "text/plain": [
       "[0.052139067953737683, 0.98419999999999996]"
      ]
     },
     "execution_count": 10,
     "metadata": {},
     "output_type": "execute_result"
    }
   ],
   "source": [
    "cnn.evaluate(x=X_TEST, y=Y_TEST)"
   ]
  },
  {
   "cell_type": "code",
   "execution_count": 11,
   "metadata": {},
   "outputs": [
    {
     "data": {
      "text/plain": [
       "<matplotlib.text.Text at 0x13c649438>"
      ]
     },
     "execution_count": 11,
     "metadata": {},
     "output_type": "execute_result"
    },
    {
     "data": {
      "image/png": "[encoded data removed]",
      "text/plain": [
       "<matplotlib.figure.Figure at 0x13c604828>"
      ]
     },
     "metadata": {},
     "output_type": "display_data"
    }
   ],
   "source": [
    "pred = cnn.predict(X_TEST).argmax(axis=1)\n",
    "\n",
    "plt.imshow(x_test[0])\n",
    "plt.title(str(pred[0]))"
   ]
  },
  {
   "cell_type": "code",
   "execution_count": null,
   "metadata": {
    "collapsed": true
   },
   "outputs": [],
   "source": []
  }
 ],
 "metadata": {
  "kernelspec": {
   "display_name": "Python 3",
   "language": "python",
   "name": "python3"
  },
  "language_info": {
   "codemirror_mode": {
    "name": "ipython",
    "version": 3
   },
   "file_extension": ".py",
   "mimetype": "text/x-python",
   "name": "python",
   "nbconvert_exporter": "python",
   "pygments_lexer": "ipython3",
   "version": "3.6.2"
  }
 },
 "nbformat": 4,
 "nbformat_minor": 2
}
